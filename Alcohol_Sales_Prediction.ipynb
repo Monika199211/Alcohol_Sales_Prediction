{
 "cells": [
  {
   "cell_type": "code",
   "execution_count": 169,
   "metadata": {},
   "outputs": [],
   "source": [
    "import numpy as np\n",
    "import pandas as pd\n",
    "import matplotlib.pyplot as plt\n",
    "import seaborn as sns\n",
    "%matplotlib inline\n",
    "\n",
    "from sklearn.preprocessing import LabelEncoder\n",
    "\n",
    "from math import sqrt\n",
    "\n",
    "from sklearn.model_selection import train_test_split\n",
    " \n",
    "from sklearn.preprocessing import StandardScaler\n",
    "\n",
    "from sklearn.linear_model import Ridge \n",
    "from sklearn.ensemble import RandomForestRegressor\n",
    "from xgboost import XGBRegressor\n",
    "\n",
    "from sklearn.metrics import mean_squared_error as mse\n",
    "from sklearn.metrics import r2_score\n",
    "from sklearn.metrics import mean_absolute_error as mae\n",
    "\n",
    "import warnings\n",
    "warnings.filterwarnings(\"ignore\")"
   ]
  },
  {
   "cell_type": "markdown",
   "metadata": {},
   "source": [
    "## Exploratory Data Analysis\n",
    "#### Reading CSV file data."
   ]
  },
  {
   "cell_type": "code",
   "execution_count": 170,
   "metadata": {},
   "outputs": [],
   "source": [
    "df = pd.read_csv(\"2019_Iowa_Liquor_Sales.csv\")"
   ]
  },
  {
   "cell_type": "code",
   "execution_count": 171,
   "metadata": {},
   "outputs": [
    {
     "data": {
      "text/html": [
       "<div>\n",
       "<style scoped>\n",
       "    .dataframe tbody tr th:only-of-type {\n",
       "        vertical-align: middle;\n",
       "    }\n",
       "\n",
       "    .dataframe tbody tr th {\n",
       "        vertical-align: top;\n",
       "    }\n",
       "\n",
       "    .dataframe thead th {\n",
       "        text-align: right;\n",
       "    }\n",
       "</style>\n",
       "<table border=\"1\" class=\"dataframe\">\n",
       "  <thead>\n",
       "    <tr style=\"text-align: right;\">\n",
       "      <th></th>\n",
       "      <th>Invoice/Item Number</th>\n",
       "      <th>Date</th>\n",
       "      <th>Store Number</th>\n",
       "      <th>Store Name</th>\n",
       "      <th>Address</th>\n",
       "      <th>City</th>\n",
       "      <th>Zip Code</th>\n",
       "      <th>Store Location</th>\n",
       "      <th>County Number</th>\n",
       "      <th>County</th>\n",
       "      <th>...</th>\n",
       "      <th>Item Number</th>\n",
       "      <th>Item Description</th>\n",
       "      <th>Pack</th>\n",
       "      <th>Bottle Volume (ml)</th>\n",
       "      <th>State Bottle Cost</th>\n",
       "      <th>State Bottle Retail</th>\n",
       "      <th>Bottles Sold</th>\n",
       "      <th>Sale (Dollars)</th>\n",
       "      <th>Volume Sold (Liters)</th>\n",
       "      <th>Volume Sold (Gallons)</th>\n",
       "    </tr>\n",
       "  </thead>\n",
       "  <tbody>\n",
       "    <tr>\n",
       "      <th>0</th>\n",
       "      <td>INV-16681900011</td>\n",
       "      <td>01/02/2019</td>\n",
       "      <td>5286</td>\n",
       "      <td>Sauce</td>\n",
       "      <td>108, College</td>\n",
       "      <td>Iowa City</td>\n",
       "      <td>52240.0</td>\n",
       "      <td>NaN</td>\n",
       "      <td>52.0</td>\n",
       "      <td>JOHNSON</td>\n",
       "      <td>...</td>\n",
       "      <td>48099</td>\n",
       "      <td>Hennessy VS</td>\n",
       "      <td>24</td>\n",
       "      <td>200</td>\n",
       "      <td>6.24</td>\n",
       "      <td>9.36</td>\n",
       "      <td>24</td>\n",
       "      <td>224.64</td>\n",
       "      <td>4.8</td>\n",
       "      <td>1.26</td>\n",
       "    </tr>\n",
       "    <tr>\n",
       "      <th>1</th>\n",
       "      <td>INV-16681900027</td>\n",
       "      <td>01/02/2019</td>\n",
       "      <td>5286</td>\n",
       "      <td>Sauce</td>\n",
       "      <td>108, College</td>\n",
       "      <td>Iowa City</td>\n",
       "      <td>52240.0</td>\n",
       "      <td>NaN</td>\n",
       "      <td>52.0</td>\n",
       "      <td>JOHNSON</td>\n",
       "      <td>...</td>\n",
       "      <td>89191</td>\n",
       "      <td>Jose Cuervo Especial Reposado Mini</td>\n",
       "      <td>12</td>\n",
       "      <td>500</td>\n",
       "      <td>11.50</td>\n",
       "      <td>17.25</td>\n",
       "      <td>12</td>\n",
       "      <td>207.00</td>\n",
       "      <td>6.0</td>\n",
       "      <td>1.58</td>\n",
       "    </tr>\n",
       "    <tr>\n",
       "      <th>2</th>\n",
       "      <td>INV-16681900018</td>\n",
       "      <td>01/02/2019</td>\n",
       "      <td>5286</td>\n",
       "      <td>Sauce</td>\n",
       "      <td>108, College</td>\n",
       "      <td>Iowa City</td>\n",
       "      <td>52240.0</td>\n",
       "      <td>NaN</td>\n",
       "      <td>52.0</td>\n",
       "      <td>JOHNSON</td>\n",
       "      <td>...</td>\n",
       "      <td>8824</td>\n",
       "      <td>Lauder's</td>\n",
       "      <td>24</td>\n",
       "      <td>375</td>\n",
       "      <td>3.21</td>\n",
       "      <td>4.82</td>\n",
       "      <td>24</td>\n",
       "      <td>115.68</td>\n",
       "      <td>9.0</td>\n",
       "      <td>2.37</td>\n",
       "    </tr>\n",
       "    <tr>\n",
       "      <th>3</th>\n",
       "      <td>INV-16685400036</td>\n",
       "      <td>01/02/2019</td>\n",
       "      <td>2524</td>\n",
       "      <td>Hy-Vee Food Store / Dubuque</td>\n",
       "      <td>3500 Dodge St</td>\n",
       "      <td>Dubuque</td>\n",
       "      <td>52001.0</td>\n",
       "      <td>NaN</td>\n",
       "      <td>31.0</td>\n",
       "      <td>DUBUQUE</td>\n",
       "      <td>...</td>\n",
       "      <td>35917</td>\n",
       "      <td>Five O'Clock Vodka</td>\n",
       "      <td>12</td>\n",
       "      <td>1000</td>\n",
       "      <td>4.17</td>\n",
       "      <td>6.26</td>\n",
       "      <td>12</td>\n",
       "      <td>75.12</td>\n",
       "      <td>12.0</td>\n",
       "      <td>3.17</td>\n",
       "    </tr>\n",
       "    <tr>\n",
       "      <th>4</th>\n",
       "      <td>INV-16690300035</td>\n",
       "      <td>01/02/2019</td>\n",
       "      <td>4449</td>\n",
       "      <td>Kum &amp; Go #121 / Urbandale</td>\n",
       "      <td>12041 Douglas Pkwy</td>\n",
       "      <td>Urbandale</td>\n",
       "      <td>50322.0</td>\n",
       "      <td>NaN</td>\n",
       "      <td>77.0</td>\n",
       "      <td>POLK</td>\n",
       "      <td>...</td>\n",
       "      <td>36304</td>\n",
       "      <td>Hawkeye Vodka</td>\n",
       "      <td>24</td>\n",
       "      <td>375</td>\n",
       "      <td>1.86</td>\n",
       "      <td>2.79</td>\n",
       "      <td>24</td>\n",
       "      <td>66.96</td>\n",
       "      <td>9.0</td>\n",
       "      <td>2.37</td>\n",
       "    </tr>\n",
       "  </tbody>\n",
       "</table>\n",
       "<p>5 rows × 24 columns</p>\n",
       "</div>"
      ],
      "text/plain": [
       "  Invoice/Item Number        Date  Store Number                   Store Name  \\\n",
       "0     INV-16681900011  01/02/2019          5286                        Sauce   \n",
       "1     INV-16681900027  01/02/2019          5286                        Sauce   \n",
       "2     INV-16681900018  01/02/2019          5286                        Sauce   \n",
       "3     INV-16685400036  01/02/2019          2524  Hy-Vee Food Store / Dubuque   \n",
       "4     INV-16690300035  01/02/2019          4449    Kum & Go #121 / Urbandale   \n",
       "\n",
       "              Address       City  Zip Code Store Location  County Number  \\\n",
       "0        108, College  Iowa City   52240.0            NaN           52.0   \n",
       "1        108, College  Iowa City   52240.0            NaN           52.0   \n",
       "2        108, College  Iowa City   52240.0            NaN           52.0   \n",
       "3       3500 Dodge St    Dubuque   52001.0            NaN           31.0   \n",
       "4  12041 Douglas Pkwy  Urbandale   50322.0            NaN           77.0   \n",
       "\n",
       "    County  ...  Item Number                    Item Description  Pack  \\\n",
       "0  JOHNSON  ...        48099                         Hennessy VS    24   \n",
       "1  JOHNSON  ...        89191  Jose Cuervo Especial Reposado Mini    12   \n",
       "2  JOHNSON  ...         8824                            Lauder's    24   \n",
       "3  DUBUQUE  ...        35917                  Five O'Clock Vodka    12   \n",
       "4     POLK  ...        36304                       Hawkeye Vodka    24   \n",
       "\n",
       "  Bottle Volume (ml)  State Bottle Cost State Bottle Retail  Bottles Sold  \\\n",
       "0                200               6.24                9.36            24   \n",
       "1                500              11.50               17.25            12   \n",
       "2                375               3.21                4.82            24   \n",
       "3               1000               4.17                6.26            12   \n",
       "4                375               1.86                2.79            24   \n",
       "\n",
       "   Sale (Dollars)  Volume Sold (Liters)  Volume Sold (Gallons)  \n",
       "0          224.64                   4.8                   1.26  \n",
       "1          207.00                   6.0                   1.58  \n",
       "2          115.68                   9.0                   2.37  \n",
       "3           75.12                  12.0                   3.17  \n",
       "4           66.96                   9.0                   2.37  \n",
       "\n",
       "[5 rows x 24 columns]"
      ]
     },
     "execution_count": 171,
     "metadata": {},
     "output_type": "execute_result"
    }
   ],
   "source": [
    "df.head()"
   ]
  },
  {
   "cell_type": "markdown",
   "metadata": {},
   "source": [
    "Displaying first 5 rows."
   ]
  },
  {
   "cell_type": "code",
   "execution_count": 172,
   "metadata": {},
   "outputs": [
    {
     "data": {
      "text/html": [
       "<div>\n",
       "<style scoped>\n",
       "    .dataframe tbody tr th:only-of-type {\n",
       "        vertical-align: middle;\n",
       "    }\n",
       "\n",
       "    .dataframe tbody tr th {\n",
       "        vertical-align: top;\n",
       "    }\n",
       "\n",
       "    .dataframe thead th {\n",
       "        text-align: right;\n",
       "    }\n",
       "</style>\n",
       "<table border=\"1\" class=\"dataframe\">\n",
       "  <thead>\n",
       "    <tr style=\"text-align: right;\">\n",
       "      <th></th>\n",
       "      <th>Invoice/Item Number</th>\n",
       "      <th>Date</th>\n",
       "      <th>Store Number</th>\n",
       "      <th>Store Name</th>\n",
       "      <th>Address</th>\n",
       "      <th>City</th>\n",
       "      <th>Zip Code</th>\n",
       "      <th>Store Location</th>\n",
       "      <th>County Number</th>\n",
       "      <th>County</th>\n",
       "      <th>...</th>\n",
       "      <th>Item Number</th>\n",
       "      <th>Item Description</th>\n",
       "      <th>Pack</th>\n",
       "      <th>Bottle Volume (ml)</th>\n",
       "      <th>State Bottle Cost</th>\n",
       "      <th>State Bottle Retail</th>\n",
       "      <th>Bottles Sold</th>\n",
       "      <th>Sale (Dollars)</th>\n",
       "      <th>Volume Sold (Liters)</th>\n",
       "      <th>Volume Sold (Gallons)</th>\n",
       "    </tr>\n",
       "  </thead>\n",
       "  <tbody>\n",
       "    <tr>\n",
       "      <th>2380340</th>\n",
       "      <td>INV-24281000038</td>\n",
       "      <td>12/31/2019</td>\n",
       "      <td>4557</td>\n",
       "      <td>Hometown Foods / Traer</td>\n",
       "      <td>420 Second St</td>\n",
       "      <td>Traer</td>\n",
       "      <td>50675.0</td>\n",
       "      <td>POINT (-92.468086 42.193386)</td>\n",
       "      <td>86.0</td>\n",
       "      <td>TAMA</td>\n",
       "      <td>...</td>\n",
       "      <td>55106</td>\n",
       "      <td>Phillips Blackberry Brandy</td>\n",
       "      <td>12</td>\n",
       "      <td>750</td>\n",
       "      <td>4.76</td>\n",
       "      <td>7.14</td>\n",
       "      <td>4</td>\n",
       "      <td>28.56</td>\n",
       "      <td>3.00</td>\n",
       "      <td>0.79</td>\n",
       "    </tr>\n",
       "    <tr>\n",
       "      <th>2380341</th>\n",
       "      <td>INV-24284800010</td>\n",
       "      <td>12/31/2019</td>\n",
       "      <td>5514</td>\n",
       "      <td>Johncy's Liquor Store</td>\n",
       "      <td>585 Hwy 965 Ste D &amp; E</td>\n",
       "      <td>North Liberty</td>\n",
       "      <td>52317.0</td>\n",
       "      <td>POINT (-91.60761 41.738129)</td>\n",
       "      <td>52.0</td>\n",
       "      <td>JOHNSON</td>\n",
       "      <td>...</td>\n",
       "      <td>8828</td>\n",
       "      <td>Lauders</td>\n",
       "      <td>6</td>\n",
       "      <td>1750</td>\n",
       "      <td>11.18</td>\n",
       "      <td>16.77</td>\n",
       "      <td>6</td>\n",
       "      <td>100.62</td>\n",
       "      <td>10.50</td>\n",
       "      <td>2.77</td>\n",
       "    </tr>\n",
       "    <tr>\n",
       "      <th>2380342</th>\n",
       "      <td>INV-24274100040</td>\n",
       "      <td>12/31/2019</td>\n",
       "      <td>3932</td>\n",
       "      <td>Main Street Spirits / Mapleton</td>\n",
       "      <td>311 Main St</td>\n",
       "      <td>Mapleton</td>\n",
       "      <td>51034.0</td>\n",
       "      <td>POINT (-95.79375 42.165915)</td>\n",
       "      <td>67.0</td>\n",
       "      <td>MONONA</td>\n",
       "      <td>...</td>\n",
       "      <td>80486</td>\n",
       "      <td>Tippy Cow Orange Cream</td>\n",
       "      <td>6</td>\n",
       "      <td>750</td>\n",
       "      <td>10.00</td>\n",
       "      <td>15.00</td>\n",
       "      <td>1</td>\n",
       "      <td>15.00</td>\n",
       "      <td>0.75</td>\n",
       "      <td>0.19</td>\n",
       "    </tr>\n",
       "    <tr>\n",
       "      <th>2380343</th>\n",
       "      <td>INV-24278900030</td>\n",
       "      <td>12/31/2019</td>\n",
       "      <td>5447</td>\n",
       "      <td>New Star / Raymond</td>\n",
       "      <td>101 Comerical Street</td>\n",
       "      <td>Raymond</td>\n",
       "      <td>50667.0</td>\n",
       "      <td>NaN</td>\n",
       "      <td>7.0</td>\n",
       "      <td>BLACK HAWK</td>\n",
       "      <td>...</td>\n",
       "      <td>18048</td>\n",
       "      <td>Evan Williams Green Label</td>\n",
       "      <td>6</td>\n",
       "      <td>1750</td>\n",
       "      <td>11.50</td>\n",
       "      <td>17.25</td>\n",
       "      <td>6</td>\n",
       "      <td>103.50</td>\n",
       "      <td>10.50</td>\n",
       "      <td>2.77</td>\n",
       "    </tr>\n",
       "    <tr>\n",
       "      <th>2380344</th>\n",
       "      <td>INV-24288400016</td>\n",
       "      <td>12/31/2019</td>\n",
       "      <td>3820</td>\n",
       "      <td>Charlie's Wine and Spirits,</td>\n",
       "      <td>507 W 19th St</td>\n",
       "      <td>Sioux City</td>\n",
       "      <td>51103.0</td>\n",
       "      <td>POINT (-96.420193 42.510535)</td>\n",
       "      <td>97.0</td>\n",
       "      <td>WOODBURY</td>\n",
       "      <td>...</td>\n",
       "      <td>27605</td>\n",
       "      <td>Tin Cup</td>\n",
       "      <td>12</td>\n",
       "      <td>750</td>\n",
       "      <td>13.75</td>\n",
       "      <td>20.63</td>\n",
       "      <td>1</td>\n",
       "      <td>20.63</td>\n",
       "      <td>0.75</td>\n",
       "      <td>0.19</td>\n",
       "    </tr>\n",
       "  </tbody>\n",
       "</table>\n",
       "<p>5 rows × 24 columns</p>\n",
       "</div>"
      ],
      "text/plain": [
       "        Invoice/Item Number        Date  Store Number  \\\n",
       "2380340     INV-24281000038  12/31/2019          4557   \n",
       "2380341     INV-24284800010  12/31/2019          5514   \n",
       "2380342     INV-24274100040  12/31/2019          3932   \n",
       "2380343     INV-24278900030  12/31/2019          5447   \n",
       "2380344     INV-24288400016  12/31/2019          3820   \n",
       "\n",
       "                             Store Name                Address           City  \\\n",
       "2380340          Hometown Foods / Traer          420 Second St          Traer   \n",
       "2380341           Johncy's Liquor Store  585 Hwy 965 Ste D & E  North Liberty   \n",
       "2380342  Main Street Spirits / Mapleton            311 Main St       Mapleton   \n",
       "2380343              New Star / Raymond   101 Comerical Street        Raymond   \n",
       "2380344     Charlie's Wine and Spirits,          507 W 19th St     Sioux City   \n",
       "\n",
       "         Zip Code                Store Location  County Number      County  \\\n",
       "2380340   50675.0  POINT (-92.468086 42.193386)           86.0        TAMA   \n",
       "2380341   52317.0   POINT (-91.60761 41.738129)           52.0     JOHNSON   \n",
       "2380342   51034.0   POINT (-95.79375 42.165915)           67.0      MONONA   \n",
       "2380343   50667.0                           NaN            7.0  BLACK HAWK   \n",
       "2380344   51103.0  POINT (-96.420193 42.510535)           97.0    WOODBURY   \n",
       "\n",
       "         ...  Item Number            Item Description  Pack  \\\n",
       "2380340  ...        55106  Phillips Blackberry Brandy    12   \n",
       "2380341  ...         8828                     Lauders     6   \n",
       "2380342  ...        80486      Tippy Cow Orange Cream     6   \n",
       "2380343  ...        18048   Evan Williams Green Label     6   \n",
       "2380344  ...        27605                     Tin Cup    12   \n",
       "\n",
       "        Bottle Volume (ml)  State Bottle Cost State Bottle Retail  \\\n",
       "2380340                750               4.76                7.14   \n",
       "2380341               1750              11.18               16.77   \n",
       "2380342                750              10.00               15.00   \n",
       "2380343               1750              11.50               17.25   \n",
       "2380344                750              13.75               20.63   \n",
       "\n",
       "         Bottles Sold  Sale (Dollars)  Volume Sold (Liters)  \\\n",
       "2380340             4           28.56                  3.00   \n",
       "2380341             6          100.62                 10.50   \n",
       "2380342             1           15.00                  0.75   \n",
       "2380343             6          103.50                 10.50   \n",
       "2380344             1           20.63                  0.75   \n",
       "\n",
       "         Volume Sold (Gallons)  \n",
       "2380340                   0.79  \n",
       "2380341                   2.77  \n",
       "2380342                   0.19  \n",
       "2380343                   2.77  \n",
       "2380344                   0.19  \n",
       "\n",
       "[5 rows x 24 columns]"
      ]
     },
     "execution_count": 172,
     "metadata": {},
     "output_type": "execute_result"
    }
   ],
   "source": [
    "# Last 5 rows\n",
    "df.tail()"
   ]
  },
  {
   "cell_type": "code",
   "execution_count": 173,
   "metadata": {},
   "outputs": [
    {
     "data": {
      "text/plain": [
       "(2380345, 24)"
      ]
     },
     "execution_count": 173,
     "metadata": {},
     "output_type": "execute_result"
    }
   ],
   "source": [
    "#Printing the shape of the data.\n",
    "df.shape"
   ]
  },
  {
   "cell_type": "markdown",
   "metadata": {},
   "source": [
    "##### Insight: We have around 2.4 millions rows and 24 columns in the dataset."
   ]
  },
  {
   "cell_type": "code",
   "execution_count": 174,
   "metadata": {},
   "outputs": [
    {
     "data": {
      "text/plain": [
       "Index(['Invoice/Item Number', 'Date', 'Store Number', 'Store Name', 'Address',\n",
       "       'City', 'Zip Code', 'Store Location', 'County Number', 'County',\n",
       "       'Category', 'Category Name', 'Vendor Number', 'Vendor Name',\n",
       "       'Item Number', 'Item Description', 'Pack', 'Bottle Volume (ml)',\n",
       "       'State Bottle Cost', 'State Bottle Retail', 'Bottles Sold',\n",
       "       'Sale (Dollars)', 'Volume Sold (Liters)', 'Volume Sold (Gallons)'],\n",
       "      dtype='object')"
      ]
     },
     "execution_count": 174,
     "metadata": {},
     "output_type": "execute_result"
    }
   ],
   "source": [
    "df.columns"
   ]
  },
  {
   "cell_type": "code",
   "execution_count": 175,
   "metadata": {},
   "outputs": [
    {
     "data": {
      "text/plain": [
       "Invoice/Item Number       object\n",
       "Date                      object\n",
       "Store Number               int64\n",
       "Store Name                object\n",
       "Address                   object\n",
       "City                      object\n",
       "Zip Code                 float64\n",
       "Store Location            object\n",
       "County Number            float64\n",
       "County                    object\n",
       "Category                 float64\n",
       "Category Name             object\n",
       "Vendor Number            float64\n",
       "Vendor Name               object\n",
       "Item Number                int64\n",
       "Item Description          object\n",
       "Pack                       int64\n",
       "Bottle Volume (ml)         int64\n",
       "State Bottle Cost        float64\n",
       "State Bottle Retail      float64\n",
       "Bottles Sold               int64\n",
       "Sale (Dollars)           float64\n",
       "Volume Sold (Liters)     float64\n",
       "Volume Sold (Gallons)    float64\n",
       "dtype: object"
      ]
     },
     "execution_count": 175,
     "metadata": {},
     "output_type": "execute_result"
    }
   ],
   "source": [
    "# Checknig the types of columns\n",
    "df.dtypes"
   ]
  },
  {
   "cell_type": "code",
   "execution_count": 176,
   "metadata": {},
   "outputs": [
    {
     "name": "stdout",
     "output_type": "stream",
     "text": [
      "<class 'pandas.core.frame.DataFrame'>\n",
      "RangeIndex: 2380345 entries, 0 to 2380344\n",
      "Data columns (total 24 columns):\n",
      " #   Column                 Dtype  \n",
      "---  ------                 -----  \n",
      " 0   Invoice/Item Number    object \n",
      " 1   Date                   object \n",
      " 2   Store Number           int64  \n",
      " 3   Store Name             object \n",
      " 4   Address                object \n",
      " 5   City                   object \n",
      " 6   Zip Code               float64\n",
      " 7   Store Location         object \n",
      " 8   County Number          float64\n",
      " 9   County                 object \n",
      " 10  Category               float64\n",
      " 11  Category Name          object \n",
      " 12  Vendor Number          float64\n",
      " 13  Vendor Name            object \n",
      " 14  Item Number            int64  \n",
      " 15  Item Description       object \n",
      " 16  Pack                   int64  \n",
      " 17  Bottle Volume (ml)     int64  \n",
      " 18  State Bottle Cost      float64\n",
      " 19  State Bottle Retail    float64\n",
      " 20  Bottles Sold           int64  \n",
      " 21  Sale (Dollars)         float64\n",
      " 22  Volume Sold (Liters)   float64\n",
      " 23  Volume Sold (Gallons)  float64\n",
      "dtypes: float64(9), int64(5), object(10)\n",
      "memory usage: 435.9+ MB\n"
     ]
    }
   ],
   "source": [
    "df.info()"
   ]
  },
  {
   "cell_type": "code",
   "execution_count": 177,
   "metadata": {},
   "outputs": [
    {
     "name": "stdout",
     "output_type": "stream",
     "text": [
      "429\n"
     ]
    },
    {
     "data": {
      "text/plain": [
       "array(['Iowa City', 'Dubuque', 'Urbandale', 'Ida Grove', 'Lake View',\n",
       "       'Rock Rapids', 'Altoona', 'Indianola', 'Des Moines',\n",
       "       'Cedar Rapids', 'Clear Lake', 'Muscatine', 'West Des Moines',\n",
       "       'Monticello', 'Correctionville', 'Cherokee', 'Sheldon', 'Ankeny',\n",
       "       'Johnston', 'Sac City', 'Boone', 'Central City', 'Holstein',\n",
       "       'Waterloo', 'Cascade', 'Hawarden', 'Storm Lake', 'Gowrie',\n",
       "       'Waukee', 'Mapleton', 'Sibley', 'Le Mars', 'Coralville',\n",
       "       'Lake City', 'Cedar Falls', 'Paullina', 'Hartley', 'Marcus',\n",
       "       'Hospers', 'Sioux Center', 'Peosta', 'Kingsley', 'Hiawatha',\n",
       "       'Rockwell City', 'Larchwood', 'Earlham', 'Rock Valley',\n",
       "       'Orange City', 'De Soto', 'Sanborn', 'Adel', 'Remsen', 'Dayton',\n",
       "       'Lemars', 'Inwood', 'George', 'Manson', 'Hull', 'Doon', 'Primghar',\n",
       "       'Shueyville', 'Ogden', 'Sutherland', 'Waukon', 'Davenport',\n",
       "       'Camanche', 'Laurens', 'Ames', 'Atkins', 'Ottumwa', 'Chariton',\n",
       "       'Knoxville', 'Huxley', 'Melcher-Dallas', 'Emmetsburg',\n",
       "       'Sioux City', 'Pella', 'Corydon', 'Le Grand', 'Carlisle', 'Tipton',\n",
       "       'Bloomfield', 'Clinton', 'Shellsburg', 'Oskaloosa', 'Onawa',\n",
       "       'Pleasant Hill', 'Milford', 'Estherville', 'Bettendorf',\n",
       "       'Centerville', 'Slater', 'North Liberty', 'Toledo', 'Fort Dodge',\n",
       "       'Spirit Lake', 'Eldridge', 'Stratford', 'Vinton', 'La Porte City',\n",
       "       'Arnolds Park', 'Glenwood', 'Spencer', 'Pocahontas', 'Hudson',\n",
       "       'DeWitt', 'Humboldt', 'Alburnett', 'Sergeant Bluff', 'Nevada',\n",
       "       'Prairie City', 'West Bend', 'Albia', 'Moravia', 'Traer',\n",
       "       'Lake Park', 'West Branch', 'Mitchellville', 'Belle Plaine',\n",
       "       'Pleasantville', 'Center Point', 'Sloan', 'Cumming',\n",
       "       'Council Bluffs', 'Marshalltown', 'Eldora', 'Keokuk', 'Bancroft',\n",
       "       nan, 'New Virginia', 'Oakland', 'Grimes', 'Oelwein',\n",
       "       'Williamsburg', 'Mount Vernon', 'Carroll', 'Perry', 'Mason City',\n",
       "       'Webster City', 'Wellsburg', 'Osceola', 'Newton', 'Decorah',\n",
       "       'Red Oak', 'Bedford', 'Algona', 'Leclaire', 'Goldfield',\n",
       "       'Winterset', 'Tiffin', 'St Lucas', 'Windsor Heights', 'Greenfield',\n",
       "       'Norwalk', 'Creston', 'Forest City', 'Colo', 'Denison', 'Hampton',\n",
       "       'Jefferson', 'Granger', 'State Center', 'Clive', 'Lenox',\n",
       "       'Shenandoah', 'Northwood', 'Pacific Junction', 'Bondurant',\n",
       "       'Denver', 'Iowa Falls', 'Madrid', 'Wesley', 'Ely', 'Corning',\n",
       "       'Belmond', 'Coon Rapids', 'Clarinda', 'Manning', 'Rockwell',\n",
       "       'Sumner', 'Ackley', 'Leon', 'Templeton', 'Bevington', 'Sheffield',\n",
       "       'Eagle Grove', 'Neola', 'West Union', 'Woodward', 'Corwith',\n",
       "       'Lake Mills', 'Swisher', 'Fort Atkinson', 'Hamburg', 'Parkersburg',\n",
       "       'Grundy Center', 'Garner', 'Swea City', 'Lansing', 'Mount Ayr',\n",
       "       'Polk City', 'Le Claire', 'Kellogg', 'Tripoli', 'Alden', 'Lamoni',\n",
       "       'Treynor', 'Clarion', 'Tabor', 'Fayette', 'Kanawha', 'Ellsworth',\n",
       "       'Guttenberg', 'Mount Pleasant', 'Grinnell', 'Brooklyn',\n",
       "       'Guthrie Center', 'Marengo', 'Anamosa', 'Fort Madison',\n",
       "       'Montezuma', 'Independence', 'Mediapolis', 'Burlington',\n",
       "       'Clarksville', 'Dyersville', 'Cresco', 'Evansdale', 'Manchester',\n",
       "       'West Point', 'Osage', 'Keosauqua', 'Fairfield', 'Kalona',\n",
       "       'West Liberty', 'Marion', 'Wapello', 'Floyd', 'Washington',\n",
       "       'Jesup', 'West Burlington', 'Bellevue', 'Charles City',\n",
       "       'Blue Grass', 'Edgewood', 'Norway', 'Solon', 'Walford', 'Monona',\n",
       "       'Waverly', 'Durant', 'Maquoketa', 'Rockford', 'New Hampton',\n",
       "       'Holy Cross', 'Amana', 'Zwingle', 'Greene', 'Riverside', 'Logan',\n",
       "       'Wilton', 'Farmington', 'Britt', 'St Ansgar', 'Columbus Junction',\n",
       "       'Lawler', 'Nora Springs', 'Strawberry Point', 'Raymond', 'Elkader',\n",
       "       'Buffalo', 'Baxter', 'Allison', 'Farley', 'Mt Pleasant', 'Nashua',\n",
       "       'Keota', 'Victor', 'Danville', 'Atlantic', 'Lisbon', 'Wellman',\n",
       "       'Elma', 'Harlan', 'Carter Lake', 'Montrose', 'Dunlap', 'Stuart',\n",
       "       'Panora', 'Audubon', 'Dallas Center', 'Missouri Valley', 'Adair',\n",
       "       'Crescent', 'Anita', 'Walnut', 'Schleswig', 'Anthon', 'Merrill',\n",
       "       'Sioux Rapids', 'Fonda', 'Alta', 'Oxford', 'Dexter', 'Lohrville',\n",
       "       'Runnells', 'Van Horne', 'Otumwa', 'Graettinger', 'Armstrong',\n",
       "       'Tama', 'Robins', 'Ruthven', 'Otho', 'Washburn', 'Grand Mounds',\n",
       "       'Dakota City', 'Dysart', 'Urbana', 'Manly', 'Garwin', 'Colfax',\n",
       "       'Glidden', 'Gladbrook', 'Princeton', 'Scranton', 'Story City',\n",
       "       'Roland', 'Postville', 'Conrad', 'Avoca', 'Jewell', 'Fairbank',\n",
       "       'Hazleton', 'Reinbeck', 'Truro', 'Dows', 'Buffalo Center',\n",
       "       'Hubbard', 'Afton', 'Sigourney', 'Sully', 'Riceville',\n",
       "       'New London', 'Winthrop', 'Delmar', 'New Sharon', 'Springville',\n",
       "       'Fairfax', 'Fredericksburg', 'MUSCATINE', 'Dumont',\n",
       "       'North English', 'Saint Ansgar', 'Woodbine', 'Albert City',\n",
       "       'Akron', 'Redfield', 'Ireton', 'Alton', 'Palo', 'Aurelia',\n",
       "       'Wall Lake', 'Early', 'Humeston', 'Wheatland', 'Seymour',\n",
       "       'Blairstown', 'Arlington', 'ClearLake', 'Monroe', 'Casey',\n",
       "       'Mechanicsville', 'Okoboji', 'Rolfe', 'Walker', 'Gilbertville',\n",
       "       'Harpers Ferry', 'Malvern', 'Maxwell', 'Latimer', 'New Hartford',\n",
       "       'Clermont', 'Martensdale', 'Delaware', 'Baldwin', 'Donnellson',\n",
       "       'Stanwood', 'Minden', 'Exira', 'Marquette', 'St Charles', 'Albion',\n",
       "       'Delhi', 'Lost Nation', 'Winfield', 'Lamont', 'Van Meter',\n",
       "       'Gilmore City', 'Grand Junction', 'Stanton', 'Aplington', 'Washta',\n",
       "       'Bussey', 'Griswold', 'Lovilia', 'Melbourne', 'Calmar',\n",
       "       'Pleasant Valley', 'Earling', 'Hinton', \"Arnold's Park\",\n",
       "       'SAGEVILLE', 'Coggon', 'Nichols', 'Clarence', 'Walcott', 'Maynard',\n",
       "       'What Cheer', 'Eddyville', 'Eldon', 'Fremont', 'Middletown',\n",
       "       'Livermore', 'Hills', 'LoneTree', 'Essex', 'Rudd', 'Villisca',\n",
       "       'Morning Sun'], dtype=object)"
      ]
     },
     "execution_count": 177,
     "metadata": {},
     "output_type": "execute_result"
    }
   ],
   "source": [
    "# Displaying unique names of country\n",
    "print(df['City'].nunique())\n",
    "df['City'].unique()"
   ]
  },
  {
   "cell_type": "code",
   "execution_count": 178,
   "metadata": {},
   "outputs": [
    {
     "data": {
      "text/plain": [
       "Des Moines      203534\n",
       "Cedar Rapids    157195\n",
       "Davenport       101324\n",
       "Waterloo         77216\n",
       "Sioux City       74234\n",
       "                 ...  \n",
       "Albert City         54\n",
       "Melbourne           28\n",
       "Earling             26\n",
       "Washta              15\n",
       "Bussey               9\n",
       "Name: City, Length: 429, dtype: int64"
      ]
     },
     "execution_count": 178,
     "metadata": {},
     "output_type": "execute_result"
    }
   ],
   "source": [
    "df['City'].value_counts()"
   ]
  },
  {
   "cell_type": "markdown",
   "metadata": {},
   "source": [
    "##### Insight: There are highest number of shops in the Des Moines city."
   ]
  },
  {
   "cell_type": "code",
   "execution_count": 179,
   "metadata": {},
   "outputs": [
    {
     "data": {
      "text/plain": [
       "Invoice/Item Number           0\n",
       "Date                          0\n",
       "Store Number                  0\n",
       "Store Name                    0\n",
       "Address                    4764\n",
       "City                       4764\n",
       "Zip Code                   4764\n",
       "Store Location           219390\n",
       "County Number              4764\n",
       "County                     4764\n",
       "Category                   2918\n",
       "Category Name              2918\n",
       "Vendor Number                 1\n",
       "Vendor Name                   1\n",
       "Item Number                   0\n",
       "Item Description              0\n",
       "Pack                          0\n",
       "Bottle Volume (ml)            0\n",
       "State Bottle Cost             0\n",
       "State Bottle Retail           0\n",
       "Bottles Sold                  0\n",
       "Sale (Dollars)                0\n",
       "Volume Sold (Liters)          0\n",
       "Volume Sold (Gallons)         0\n",
       "dtype: int64"
      ]
     },
     "execution_count": 179,
     "metadata": {},
     "output_type": "execute_result"
    }
   ],
   "source": [
    "# Checking for the Null values\n",
    "df.isnull().sum()"
   ]
  },
  {
   "cell_type": "markdown",
   "metadata": {},
   "source": [
    "##### Insight: There are null values. So we will simply drop all such rows that also will reduce the size of dataset."
   ]
  },
  {
   "cell_type": "code",
   "execution_count": 180,
   "metadata": {},
   "outputs": [
    {
     "data": {
      "text/html": [
       "<div>\n",
       "<style scoped>\n",
       "    .dataframe tbody tr th:only-of-type {\n",
       "        vertical-align: middle;\n",
       "    }\n",
       "\n",
       "    .dataframe tbody tr th {\n",
       "        vertical-align: top;\n",
       "    }\n",
       "\n",
       "    .dataframe thead th {\n",
       "        text-align: right;\n",
       "    }\n",
       "</style>\n",
       "<table border=\"1\" class=\"dataframe\">\n",
       "  <thead>\n",
       "    <tr style=\"text-align: right;\">\n",
       "      <th></th>\n",
       "      <th>Store Number</th>\n",
       "      <th>Zip Code</th>\n",
       "      <th>County Number</th>\n",
       "      <th>Category</th>\n",
       "      <th>Vendor Number</th>\n",
       "      <th>Item Number</th>\n",
       "      <th>Pack</th>\n",
       "      <th>Bottle Volume (ml)</th>\n",
       "      <th>State Bottle Cost</th>\n",
       "      <th>State Bottle Retail</th>\n",
       "      <th>Bottles Sold</th>\n",
       "      <th>Sale (Dollars)</th>\n",
       "      <th>Volume Sold (Liters)</th>\n",
       "      <th>Volume Sold (Gallons)</th>\n",
       "    </tr>\n",
       "  </thead>\n",
       "  <tbody>\n",
       "    <tr>\n",
       "      <th>count</th>\n",
       "      <td>2.380345e+06</td>\n",
       "      <td>2.375581e+06</td>\n",
       "      <td>2.375581e+06</td>\n",
       "      <td>2.377427e+06</td>\n",
       "      <td>2.380344e+06</td>\n",
       "      <td>2.380345e+06</td>\n",
       "      <td>2.380345e+06</td>\n",
       "      <td>2.380345e+06</td>\n",
       "      <td>2.380345e+06</td>\n",
       "      <td>2.380345e+06</td>\n",
       "      <td>2.380345e+06</td>\n",
       "      <td>2.380345e+06</td>\n",
       "      <td>2.380345e+06</td>\n",
       "      <td>2.380345e+06</td>\n",
       "    </tr>\n",
       "    <tr>\n",
       "      <th>mean</th>\n",
       "      <td>3.903901e+03</td>\n",
       "      <td>5.126670e+04</td>\n",
       "      <td>5.730555e+01</td>\n",
       "      <td>1.052185e+06</td>\n",
       "      <td>2.647152e+02</td>\n",
       "      <td>4.836175e+04</td>\n",
       "      <td>1.242525e+01</td>\n",
       "      <td>8.766395e+02</td>\n",
       "      <td>1.034431e+01</td>\n",
       "      <td>1.551888e+01</td>\n",
       "      <td>1.127750e+01</td>\n",
       "      <td>1.467100e+02</td>\n",
       "      <td>9.368987e+00</td>\n",
       "      <td>2.469610e+00</td>\n",
       "    </tr>\n",
       "    <tr>\n",
       "      <th>std</th>\n",
       "      <td>1.138921e+03</td>\n",
       "      <td>9.881870e+02</td>\n",
       "      <td>2.727291e+01</td>\n",
       "      <td>9.329829e+04</td>\n",
       "      <td>1.370791e+02</td>\n",
       "      <td>6.708207e+04</td>\n",
       "      <td>8.108758e+00</td>\n",
       "      <td>5.214263e+02</td>\n",
       "      <td>8.568864e+00</td>\n",
       "      <td>1.285549e+01</td>\n",
       "      <td>3.131091e+01</td>\n",
       "      <td>4.871768e+02</td>\n",
       "      <td>3.824454e+01</td>\n",
       "      <td>1.010336e+01</td>\n",
       "    </tr>\n",
       "    <tr>\n",
       "      <th>min</th>\n",
       "      <td>2.106000e+03</td>\n",
       "      <td>5.000200e+04</td>\n",
       "      <td>1.000000e+00</td>\n",
       "      <td>1.011100e+06</td>\n",
       "      <td>3.300000e+01</td>\n",
       "      <td>1.590000e+02</td>\n",
       "      <td>1.000000e+00</td>\n",
       "      <td>2.000000e+01</td>\n",
       "      <td>8.900000e-01</td>\n",
       "      <td>1.340000e+00</td>\n",
       "      <td>1.000000e+00</td>\n",
       "      <td>1.340000e+00</td>\n",
       "      <td>2.000000e-02</td>\n",
       "      <td>0.000000e+00</td>\n",
       "    </tr>\n",
       "    <tr>\n",
       "      <th>25%</th>\n",
       "      <td>2.624000e+03</td>\n",
       "      <td>5.031600e+04</td>\n",
       "      <td>3.100000e+01</td>\n",
       "      <td>1.012200e+06</td>\n",
       "      <td>1.150000e+02</td>\n",
       "      <td>2.682800e+04</td>\n",
       "      <td>6.000000e+00</td>\n",
       "      <td>7.500000e+02</td>\n",
       "      <td>5.500000e+00</td>\n",
       "      <td>8.250000e+00</td>\n",
       "      <td>3.000000e+00</td>\n",
       "      <td>3.375000e+01</td>\n",
       "      <td>1.500000e+00</td>\n",
       "      <td>3.900000e-01</td>\n",
       "    </tr>\n",
       "    <tr>\n",
       "      <th>50%</th>\n",
       "      <td>3.952000e+03</td>\n",
       "      <td>5.110300e+04</td>\n",
       "      <td>6.200000e+01</td>\n",
       "      <td>1.031200e+06</td>\n",
       "      <td>2.600000e+02</td>\n",
       "      <td>3.817700e+04</td>\n",
       "      <td>1.200000e+01</td>\n",
       "      <td>7.500000e+02</td>\n",
       "      <td>8.250000e+00</td>\n",
       "      <td>1.238000e+01</td>\n",
       "      <td>6.000000e+00</td>\n",
       "      <td>7.536000e+01</td>\n",
       "      <td>4.800000e+00</td>\n",
       "      <td>1.260000e+00</td>\n",
       "    </tr>\n",
       "    <tr>\n",
       "      <th>75%</th>\n",
       "      <td>4.971000e+03</td>\n",
       "      <td>5.230200e+04</td>\n",
       "      <td>7.700000e+01</td>\n",
       "      <td>1.062400e+06</td>\n",
       "      <td>3.890000e+02</td>\n",
       "      <td>6.486400e+04</td>\n",
       "      <td>1.200000e+01</td>\n",
       "      <td>1.000000e+03</td>\n",
       "      <td>1.296000e+01</td>\n",
       "      <td>1.944000e+01</td>\n",
       "      <td>1.200000e+01</td>\n",
       "      <td>1.485600e+02</td>\n",
       "      <td>1.050000e+01</td>\n",
       "      <td>2.770000e+00</td>\n",
       "    </tr>\n",
       "    <tr>\n",
       "      <th>max</th>\n",
       "      <td>9.042000e+03</td>\n",
       "      <td>5.722200e+04</td>\n",
       "      <td>9.900000e+01</td>\n",
       "      <td>1.901200e+06</td>\n",
       "      <td>9.780000e+02</td>\n",
       "      <td>9.992920e+05</td>\n",
       "      <td>4.800000e+01</td>\n",
       "      <td>6.000000e+03</td>\n",
       "      <td>1.749120e+03</td>\n",
       "      <td>2.623680e+03</td>\n",
       "      <td>6.750000e+03</td>\n",
       "      <td>7.843500e+04</td>\n",
       "      <td>1.181250e+04</td>\n",
       "      <td>3.120530e+03</td>\n",
       "    </tr>\n",
       "  </tbody>\n",
       "</table>\n",
       "</div>"
      ],
      "text/plain": [
       "       Store Number      Zip Code  County Number      Category  Vendor Number  \\\n",
       "count  2.380345e+06  2.375581e+06   2.375581e+06  2.377427e+06   2.380344e+06   \n",
       "mean   3.903901e+03  5.126670e+04   5.730555e+01  1.052185e+06   2.647152e+02   \n",
       "std    1.138921e+03  9.881870e+02   2.727291e+01  9.329829e+04   1.370791e+02   \n",
       "min    2.106000e+03  5.000200e+04   1.000000e+00  1.011100e+06   3.300000e+01   \n",
       "25%    2.624000e+03  5.031600e+04   3.100000e+01  1.012200e+06   1.150000e+02   \n",
       "50%    3.952000e+03  5.110300e+04   6.200000e+01  1.031200e+06   2.600000e+02   \n",
       "75%    4.971000e+03  5.230200e+04   7.700000e+01  1.062400e+06   3.890000e+02   \n",
       "max    9.042000e+03  5.722200e+04   9.900000e+01  1.901200e+06   9.780000e+02   \n",
       "\n",
       "        Item Number          Pack  Bottle Volume (ml)  State Bottle Cost  \\\n",
       "count  2.380345e+06  2.380345e+06        2.380345e+06       2.380345e+06   \n",
       "mean   4.836175e+04  1.242525e+01        8.766395e+02       1.034431e+01   \n",
       "std    6.708207e+04  8.108758e+00        5.214263e+02       8.568864e+00   \n",
       "min    1.590000e+02  1.000000e+00        2.000000e+01       8.900000e-01   \n",
       "25%    2.682800e+04  6.000000e+00        7.500000e+02       5.500000e+00   \n",
       "50%    3.817700e+04  1.200000e+01        7.500000e+02       8.250000e+00   \n",
       "75%    6.486400e+04  1.200000e+01        1.000000e+03       1.296000e+01   \n",
       "max    9.992920e+05  4.800000e+01        6.000000e+03       1.749120e+03   \n",
       "\n",
       "       State Bottle Retail  Bottles Sold  Sale (Dollars)  \\\n",
       "count         2.380345e+06  2.380345e+06    2.380345e+06   \n",
       "mean          1.551888e+01  1.127750e+01    1.467100e+02   \n",
       "std           1.285549e+01  3.131091e+01    4.871768e+02   \n",
       "min           1.340000e+00  1.000000e+00    1.340000e+00   \n",
       "25%           8.250000e+00  3.000000e+00    3.375000e+01   \n",
       "50%           1.238000e+01  6.000000e+00    7.536000e+01   \n",
       "75%           1.944000e+01  1.200000e+01    1.485600e+02   \n",
       "max           2.623680e+03  6.750000e+03    7.843500e+04   \n",
       "\n",
       "       Volume Sold (Liters)  Volume Sold (Gallons)  \n",
       "count          2.380345e+06           2.380345e+06  \n",
       "mean           9.368987e+00           2.469610e+00  \n",
       "std            3.824454e+01           1.010336e+01  \n",
       "min            2.000000e-02           0.000000e+00  \n",
       "25%            1.500000e+00           3.900000e-01  \n",
       "50%            4.800000e+00           1.260000e+00  \n",
       "75%            1.050000e+01           2.770000e+00  \n",
       "max            1.181250e+04           3.120530e+03  "
      ]
     },
     "execution_count": 180,
     "metadata": {},
     "output_type": "execute_result"
    }
   ],
   "source": [
    "df.describe()"
   ]
  },
  {
   "cell_type": "code",
   "execution_count": 181,
   "metadata": {},
   "outputs": [
    {
     "name": "stdout",
     "output_type": "stream",
     "text": [
      "(2158261, 24)\n"
     ]
    }
   ],
   "source": [
    "# Dropping null values rows and again checking shape of dataframe.\n",
    "df.dropna(inplace = True)\n",
    "print(df.shape)"
   ]
  },
  {
   "cell_type": "code",
   "execution_count": 182,
   "metadata": {},
   "outputs": [
    {
     "data": {
      "text/plain": [
       "(2158261, 24)"
      ]
     },
     "execution_count": 182,
     "metadata": {},
     "output_type": "execute_result"
    }
   ],
   "source": [
    "# Check for the duplicates values.\n",
    "df.drop_duplicates()\n",
    "df.shape"
   ]
  },
  {
   "cell_type": "markdown",
   "metadata": {},
   "source": [
    "#### Converting the date into month, day, year as separate column."
   ]
  },
  {
   "cell_type": "code",
   "execution_count": 183,
   "metadata": {},
   "outputs": [],
   "source": [
    "df['Date'] = pd.to_datetime(df['Date'])\n",
    "df['Year'] = df['Date'].dt.year\n",
    "df['Month'] = df['Date'].dt.month\n",
    "df['Day'] = df['Date'].dt.day"
   ]
  },
  {
   "cell_type": "code",
   "execution_count": 184,
   "metadata": {},
   "outputs": [
    {
     "data": {
      "text/html": [
       "<div>\n",
       "<style scoped>\n",
       "    .dataframe tbody tr th:only-of-type {\n",
       "        vertical-align: middle;\n",
       "    }\n",
       "\n",
       "    .dataframe tbody tr th {\n",
       "        vertical-align: top;\n",
       "    }\n",
       "\n",
       "    .dataframe thead th {\n",
       "        text-align: right;\n",
       "    }\n",
       "</style>\n",
       "<table border=\"1\" class=\"dataframe\">\n",
       "  <thead>\n",
       "    <tr style=\"text-align: right;\">\n",
       "      <th></th>\n",
       "      <th>Invoice/Item Number</th>\n",
       "      <th>Date</th>\n",
       "      <th>Store Number</th>\n",
       "      <th>Store Name</th>\n",
       "      <th>Address</th>\n",
       "      <th>City</th>\n",
       "      <th>Zip Code</th>\n",
       "      <th>Store Location</th>\n",
       "      <th>County Number</th>\n",
       "      <th>County</th>\n",
       "      <th>...</th>\n",
       "      <th>Bottle Volume (ml)</th>\n",
       "      <th>State Bottle Cost</th>\n",
       "      <th>State Bottle Retail</th>\n",
       "      <th>Bottles Sold</th>\n",
       "      <th>Sale (Dollars)</th>\n",
       "      <th>Volume Sold (Liters)</th>\n",
       "      <th>Volume Sold (Gallons)</th>\n",
       "      <th>Year</th>\n",
       "      <th>Month</th>\n",
       "      <th>Day</th>\n",
       "    </tr>\n",
       "  </thead>\n",
       "  <tbody>\n",
       "    <tr>\n",
       "      <th>16</th>\n",
       "      <td>INV-16677900018</td>\n",
       "      <td>2019-01-02</td>\n",
       "      <td>3870</td>\n",
       "      <td>Target Store T-1939 / Altoona</td>\n",
       "      <td>3414 8th St SW</td>\n",
       "      <td>Altoona</td>\n",
       "      <td>50009.0</td>\n",
       "      <td>POINT (-93.503783 41.644024)</td>\n",
       "      <td>77.0</td>\n",
       "      <td>POLK</td>\n",
       "      <td>...</td>\n",
       "      <td>750</td>\n",
       "      <td>13.75</td>\n",
       "      <td>20.63</td>\n",
       "      <td>12</td>\n",
       "      <td>247.56</td>\n",
       "      <td>9.00</td>\n",
       "      <td>2.37</td>\n",
       "      <td>2019</td>\n",
       "      <td>1</td>\n",
       "      <td>2</td>\n",
       "    </tr>\n",
       "    <tr>\n",
       "      <th>30</th>\n",
       "      <td>INV-16678800049</td>\n",
       "      <td>2019-01-02</td>\n",
       "      <td>2527</td>\n",
       "      <td>Hy-Vee Food Store #5 / Des Moines</td>\n",
       "      <td>1107 SE Army Post Rd</td>\n",
       "      <td>Des Moines</td>\n",
       "      <td>50315.0</td>\n",
       "      <td>POINT (-93.602372 41.526289)</td>\n",
       "      <td>77.0</td>\n",
       "      <td>POLK</td>\n",
       "      <td>...</td>\n",
       "      <td>1750</td>\n",
       "      <td>11.99</td>\n",
       "      <td>17.99</td>\n",
       "      <td>6</td>\n",
       "      <td>107.94</td>\n",
       "      <td>10.50</td>\n",
       "      <td>2.77</td>\n",
       "      <td>2019</td>\n",
       "      <td>1</td>\n",
       "      <td>2</td>\n",
       "    </tr>\n",
       "    <tr>\n",
       "      <th>31</th>\n",
       "      <td>INV-16676700070</td>\n",
       "      <td>2019-01-02</td>\n",
       "      <td>2190</td>\n",
       "      <td>Central City Liquor, Inc.</td>\n",
       "      <td>1460 2ND AVE</td>\n",
       "      <td>Des Moines</td>\n",
       "      <td>50314.0</td>\n",
       "      <td>POINT (-93.619787 41.60566)</td>\n",
       "      <td>77.0</td>\n",
       "      <td>POLK</td>\n",
       "      <td>...</td>\n",
       "      <td>750</td>\n",
       "      <td>21.50</td>\n",
       "      <td>32.25</td>\n",
       "      <td>3</td>\n",
       "      <td>106.29</td>\n",
       "      <td>2.25</td>\n",
       "      <td>0.59</td>\n",
       "      <td>2019</td>\n",
       "      <td>1</td>\n",
       "      <td>2</td>\n",
       "    </tr>\n",
       "    <tr>\n",
       "      <th>32</th>\n",
       "      <td>INV-16678800065</td>\n",
       "      <td>2019-01-02</td>\n",
       "      <td>2527</td>\n",
       "      <td>Hy-Vee Food Store #5 / Des Moines</td>\n",
       "      <td>1107 SE Army Post Rd</td>\n",
       "      <td>Des Moines</td>\n",
       "      <td>50315.0</td>\n",
       "      <td>POINT (-93.602372 41.526289)</td>\n",
       "      <td>77.0</td>\n",
       "      <td>POLK</td>\n",
       "      <td>...</td>\n",
       "      <td>750</td>\n",
       "      <td>8.25</td>\n",
       "      <td>12.38</td>\n",
       "      <td>12</td>\n",
       "      <td>148.56</td>\n",
       "      <td>9.00</td>\n",
       "      <td>2.37</td>\n",
       "      <td>2019</td>\n",
       "      <td>1</td>\n",
       "      <td>2</td>\n",
       "    </tr>\n",
       "    <tr>\n",
       "      <th>33</th>\n",
       "      <td>INV-16676700058</td>\n",
       "      <td>2019-01-02</td>\n",
       "      <td>2190</td>\n",
       "      <td>Central City Liquor, Inc.</td>\n",
       "      <td>1460 2ND AVE</td>\n",
       "      <td>Des Moines</td>\n",
       "      <td>50314.0</td>\n",
       "      <td>POINT (-93.619787 41.60566)</td>\n",
       "      <td>77.0</td>\n",
       "      <td>POLK</td>\n",
       "      <td>...</td>\n",
       "      <td>750</td>\n",
       "      <td>31.00</td>\n",
       "      <td>46.50</td>\n",
       "      <td>2</td>\n",
       "      <td>93.00</td>\n",
       "      <td>1.50</td>\n",
       "      <td>0.39</td>\n",
       "      <td>2019</td>\n",
       "      <td>1</td>\n",
       "      <td>2</td>\n",
       "    </tr>\n",
       "  </tbody>\n",
       "</table>\n",
       "<p>5 rows × 27 columns</p>\n",
       "</div>"
      ],
      "text/plain": [
       "   Invoice/Item Number       Date  Store Number  \\\n",
       "16     INV-16677900018 2019-01-02          3870   \n",
       "30     INV-16678800049 2019-01-02          2527   \n",
       "31     INV-16676700070 2019-01-02          2190   \n",
       "32     INV-16678800065 2019-01-02          2527   \n",
       "33     INV-16676700058 2019-01-02          2190   \n",
       "\n",
       "                           Store Name               Address        City  \\\n",
       "16      Target Store T-1939 / Altoona        3414 8th St SW     Altoona   \n",
       "30  Hy-Vee Food Store #5 / Des Moines  1107 SE Army Post Rd  Des Moines   \n",
       "31          Central City Liquor, Inc.          1460 2ND AVE  Des Moines   \n",
       "32  Hy-Vee Food Store #5 / Des Moines  1107 SE Army Post Rd  Des Moines   \n",
       "33          Central City Liquor, Inc.          1460 2ND AVE  Des Moines   \n",
       "\n",
       "    Zip Code                Store Location  County Number County  ...  \\\n",
       "16   50009.0  POINT (-93.503783 41.644024)           77.0   POLK  ...   \n",
       "30   50315.0  POINT (-93.602372 41.526289)           77.0   POLK  ...   \n",
       "31   50314.0   POINT (-93.619787 41.60566)           77.0   POLK  ...   \n",
       "32   50315.0  POINT (-93.602372 41.526289)           77.0   POLK  ...   \n",
       "33   50314.0   POINT (-93.619787 41.60566)           77.0   POLK  ...   \n",
       "\n",
       "    Bottle Volume (ml) State Bottle Cost  State Bottle Retail Bottles Sold  \\\n",
       "16                 750             13.75                20.63           12   \n",
       "30                1750             11.99                17.99            6   \n",
       "31                 750             21.50                32.25            3   \n",
       "32                 750              8.25                12.38           12   \n",
       "33                 750             31.00                46.50            2   \n",
       "\n",
       "    Sale (Dollars) Volume Sold (Liters)  Volume Sold (Gallons)  Year  Month  \\\n",
       "16          247.56                 9.00                   2.37  2019      1   \n",
       "30          107.94                10.50                   2.77  2019      1   \n",
       "31          106.29                 2.25                   0.59  2019      1   \n",
       "32          148.56                 9.00                   2.37  2019      1   \n",
       "33           93.00                 1.50                   0.39  2019      1   \n",
       "\n",
       "    Day  \n",
       "16    2  \n",
       "30    2  \n",
       "31    2  \n",
       "32    2  \n",
       "33    2  \n",
       "\n",
       "[5 rows x 27 columns]"
      ]
     },
     "execution_count": 184,
     "metadata": {},
     "output_type": "execute_result"
    }
   ],
   "source": [
    "df.head()"
   ]
  },
  {
   "cell_type": "code",
   "execution_count": 185,
   "metadata": {},
   "outputs": [
    {
     "name": "stdout",
     "output_type": "stream",
     "text": [
      "2019-01-02 00:00:00\n",
      "2019-12-31 00:00:00\n"
     ]
    }
   ],
   "source": [
    "# Printing minimum and the maximum date from dataset.\n",
    "print(df['Date'].min())\n",
    "print(df['Date'].max())"
   ]
  },
  {
   "cell_type": "markdown",
   "metadata": {},
   "source": [
    "##### Insight: So we have dataset from the 2nd january 2019 to 31st december 2015."
   ]
  },
  {
   "cell_type": "code",
   "execution_count": 186,
   "metadata": {},
   "outputs": [
    {
     "name": "stdout",
     "output_type": "stream",
     "text": [
      "53\n"
     ]
    },
    {
     "data": {
      "text/plain": [
       "array(['Blended Whiskies', 'American Dry Gins', 'Single Malt Scotch',\n",
       "       'American Flavored Vodka', '100% Agave Tequila', 'Irish Whiskies',\n",
       "       'Mixto Tequila', 'American Vodkas', 'Canadian Whiskies',\n",
       "       'American Schnapps', 'Tennessee Whiskies',\n",
       "       'Imported Flavored Vodka', 'Imported Brandies',\n",
       "       'American Cordials & Liqueur', 'Imported Vodkas',\n",
       "       'Imported Cordials & Liqueurs', 'White Rum', 'Imported Dry Gins',\n",
       "       'Cream Liqueurs', 'Whiskey Liqueur',\n",
       "       'Temporary & Specialty Packages', 'Scotch Whiskies',\n",
       "       'American Brandies', 'Gold Rum', 'Flavored Gin', 'Flavored Rum',\n",
       "       'Cocktails /RTD', 'Imported Schnapps', 'Straight Bourbon Whiskies',\n",
       "       'Spiced Rum', 'American Distilled Spirit Specialty',\n",
       "       'Imported Distilled Spirit Specialty', 'Neutral Grain Spirits',\n",
       "       'Straight Rye Whiskies', 'Aged Dark Rum',\n",
       "       'Neutral Grain Spirits Flavored', 'Corn Whiskies', 'Triple Sec',\n",
       "       'Coffee Liqueurs', 'Bottled in Bond Bourbon', 'American Sloe Gins',\n",
       "       'American Distilled Spirits Specialty', 'Mezcal',\n",
       "       'Single Barrel Bourbon Whiskies', 'Cocktails / RTD',\n",
       "       'Special Order Items', 'Imported Cordials & Liqueur',\n",
       "       'Imported Distilled Spirits Specialty',\n",
       "       'American Cordials & Liqueurs', 'Imported Vodka',\n",
       "       'Iowa Distillery Whiskies', 'American Vodka',\n",
       "       'Temporary &  Specialty Packages'], dtype=object)"
      ]
     },
     "execution_count": 186,
     "metadata": {},
     "output_type": "execute_result"
    }
   ],
   "source": [
    "print(df['Category Name'].nunique())\n",
    "df['Category Name'].unique()"
   ]
  },
  {
   "cell_type": "markdown",
   "metadata": {},
   "source": [
    "##### Insight: As we can see there are 53 unique different categories of liquors."
   ]
  },
  {
   "cell_type": "code",
   "execution_count": 187,
   "metadata": {},
   "outputs": [],
   "source": [
    "# Replacing the dollar symbol in the sales column by None\n",
    "\n",
    "df['Sale (Dollars)'] = df['Sale (Dollars)'].replace('$', '')\n",
    "df['Sale (Dollars)'] = df['Sale (Dollars)'].astype('float')"
   ]
  },
  {
   "cell_type": "markdown",
   "metadata": {},
   "source": [
    "#### Top 10 categories of liquors that has highest sale."
   ]
  },
  {
   "cell_type": "code",
   "execution_count": 188,
   "metadata": {},
   "outputs": [],
   "source": [
    "df_plot = df.fillna('NA').groupby(['Category Name','Pack','Date'])['Sale (Dollars)'].sum().groupby(\n",
    "            ['Category Name','Pack']).max().sort_values().groupby(\n",
    "            ['Category Name']).sum().sort_values(ascending=False)\n",
    "top_count = pd.DataFrame(df_plot)\n",
    "top_count1 = pd.DataFrame(df_plot.head(10))"
   ]
  },
  {
   "cell_type": "code",
   "execution_count": 189,
   "metadata": {},
   "outputs": [
    {
     "data": {
      "text/html": [
       "<div>\n",
       "<style scoped>\n",
       "    .dataframe tbody tr th:only-of-type {\n",
       "        vertical-align: middle;\n",
       "    }\n",
       "\n",
       "    .dataframe tbody tr th {\n",
       "        vertical-align: top;\n",
       "    }\n",
       "\n",
       "    .dataframe thead th {\n",
       "        text-align: right;\n",
       "    }\n",
       "</style>\n",
       "<table border=\"1\" class=\"dataframe\">\n",
       "  <thead>\n",
       "    <tr style=\"text-align: right;\">\n",
       "      <th></th>\n",
       "      <th>Sale (Dollars)</th>\n",
       "    </tr>\n",
       "    <tr>\n",
       "      <th>Category Name</th>\n",
       "      <th></th>\n",
       "    </tr>\n",
       "  </thead>\n",
       "  <tbody>\n",
       "    <tr>\n",
       "      <th>Canadian Whiskies</th>\n",
       "      <td>657979.89</td>\n",
       "    </tr>\n",
       "    <tr>\n",
       "      <th>American Vodkas</th>\n",
       "      <td>392981.25</td>\n",
       "    </tr>\n",
       "    <tr>\n",
       "      <th>Temporary &amp; Specialty Packages</th>\n",
       "      <td>379523.82</td>\n",
       "    </tr>\n",
       "    <tr>\n",
       "      <th>Imported Vodkas</th>\n",
       "      <td>324551.64</td>\n",
       "    </tr>\n",
       "    <tr>\n",
       "      <th>Straight Bourbon Whiskies</th>\n",
       "      <td>268459.53</td>\n",
       "    </tr>\n",
       "    <tr>\n",
       "      <th>Whiskey Liqueur</th>\n",
       "      <td>206680.49</td>\n",
       "    </tr>\n",
       "    <tr>\n",
       "      <th>Spiced Rum</th>\n",
       "      <td>199129.04</td>\n",
       "    </tr>\n",
       "    <tr>\n",
       "      <th>Tennessee Whiskies</th>\n",
       "      <td>164095.12</td>\n",
       "    </tr>\n",
       "    <tr>\n",
       "      <th>100% Agave Tequila</th>\n",
       "      <td>155288.31</td>\n",
       "    </tr>\n",
       "    <tr>\n",
       "      <th>Irish Whiskies</th>\n",
       "      <td>132052.92</td>\n",
       "    </tr>\n",
       "  </tbody>\n",
       "</table>\n",
       "</div>"
      ],
      "text/plain": [
       "                                Sale (Dollars)\n",
       "Category Name                                 \n",
       "Canadian Whiskies                    657979.89\n",
       "American Vodkas                      392981.25\n",
       "Temporary & Specialty Packages       379523.82\n",
       "Imported Vodkas                      324551.64\n",
       "Straight Bourbon Whiskies            268459.53\n",
       "Whiskey Liqueur                      206680.49\n",
       "Spiced Rum                           199129.04\n",
       "Tennessee Whiskies                   164095.12\n",
       "100% Agave Tequila                   155288.31\n",
       "Irish Whiskies                       132052.92"
      ]
     },
     "execution_count": 189,
     "metadata": {},
     "output_type": "execute_result"
    }
   ],
   "source": [
    "top_count1"
   ]
  },
  {
   "cell_type": "code",
   "execution_count": 190,
   "metadata": {},
   "outputs": [
    {
     "data": {
      "image/png": "[encoded data removed]",
      "text/plain": [
       "<Figure size 720x576 with 1 Axes>"
      ]
     },
     "metadata": {
      "needs_background": "light"
     },
     "output_type": "display_data"
    }
   ],
   "source": [
    "#top_count1['Sale (Dollars)'].plot(kind='bar',title=\"Sales of liquor per category\")\n",
    "plt.figure(figsize=(10,8))\n",
    "plt.xticks(rotation=60)\n",
    "sns.barplot(x=top_count1.index, y='Sale (Dollars)',data=top_count1)\n",
    "plt.show()\n"
   ]
  },
  {
   "cell_type": "markdown",
   "metadata": {},
   "source": [
    "##### Insight: As we can see that the canadian whiskies has high number of sales may be becuase peoples like to drink it more or it can be very famous liquor brand as well."
   ]
  },
  {
   "cell_type": "markdown",
   "metadata": {},
   "source": [
    "#### Sales of liquor by city name (top 20)."
   ]
  },
  {
   "cell_type": "code",
   "execution_count": 191,
   "metadata": {},
   "outputs": [
    {
     "data": {
      "image/png": "[encoded data removed]",
      "text/plain": [
       "<Figure size 720x576 with 1 Axes>"
      ]
     },
     "metadata": {
      "needs_background": "light"
     },
     "output_type": "display_data"
    }
   ],
   "source": [
    "df_plot = df.fillna('NA').groupby(['City','Pack','Date'])['Sale (Dollars)'].sum().groupby(\n",
    "            ['City','Pack']).max().sort_values().groupby(\n",
    "            ['City']).sum().sort_values(ascending=False)\n",
    "top_count1 = pd.DataFrame(df_plot)\n",
    "top_count1 = pd.DataFrame(df_plot.head(20))\n",
    "\n",
    "plt.figure(figsize=(10,8))\n",
    "plt.xticks(rotation=60)\n",
    "sns.barplot(data=top_count1,x=top_count1.index, y='Sale (Dollars)')\n",
    "plt.title(\"Sales of liquor per city\")\n",
    "plt.show()"
   ]
  },
  {
   "cell_type": "markdown",
   "metadata": {},
   "source": [
    "##### Insight: The Urbandale city has highest sales of liquors."
   ]
  },
  {
   "cell_type": "code",
   "execution_count": 192,
   "metadata": {},
   "outputs": [
    {
     "data": {
      "image/png": "[encoded data removed]",
      "text/plain": [
       "<Figure size 720x576 with 1 Axes>"
      ]
     },
     "metadata": {
      "needs_background": "light"
     },
     "output_type": "display_data"
    }
   ],
   "source": [
    "df_plot = df.fillna('NA').groupby(['Month','Pack','Date'])['Sale (Dollars)'].sum().groupby(\n",
    "            ['Month','Pack']).max().sort_values().groupby(\n",
    "            ['Month']).sum().sort_values(ascending=False)\n",
    "top_count1 = pd.DataFrame(df_plot)\n",
    "top_count1 = pd.DataFrame(df_plot.head(50))\n",
    "\n",
    "plt.figure(figsize=(10,8))\n",
    "plt.xticks(rotation=60)\n",
    "sns.barplot(data=top_count1,x=top_count1.index, y='Sale (Dollars)')\n",
    "plt.title(\"Sales of liquor per Month\")\n",
    "plt.show()"
   ]
  },
  {
   "cell_type": "markdown",
   "metadata": {},
   "source": [
    "##### Insight: From the avove plot it is cleared that the July month has highest number of sales of liquors."
   ]
  },
  {
   "cell_type": "code",
   "execution_count": 193,
   "metadata": {},
   "outputs": [],
   "source": [
    "daily_sales = df.groupby('Date', as_index=False)['Sale (Dollars)'].sum()"
   ]
  },
  {
   "cell_type": "code",
   "execution_count": 194,
   "metadata": {},
   "outputs": [
    {
     "data": {
      "text/html": [
       "<div>\n",
       "<style scoped>\n",
       "    .dataframe tbody tr th:only-of-type {\n",
       "        vertical-align: middle;\n",
       "    }\n",
       "\n",
       "    .dataframe tbody tr th {\n",
       "        vertical-align: top;\n",
       "    }\n",
       "\n",
       "    .dataframe thead th {\n",
       "        text-align: right;\n",
       "    }\n",
       "</style>\n",
       "<table border=\"1\" class=\"dataframe\">\n",
       "  <thead>\n",
       "    <tr style=\"text-align: right;\">\n",
       "      <th></th>\n",
       "      <th>Date</th>\n",
       "      <th>Sale (Dollars)</th>\n",
       "    </tr>\n",
       "  </thead>\n",
       "  <tbody>\n",
       "    <tr>\n",
       "      <th>0</th>\n",
       "      <td>2019-01-02</td>\n",
       "      <td>941321.41</td>\n",
       "    </tr>\n",
       "    <tr>\n",
       "      <th>1</th>\n",
       "      <td>2019-01-03</td>\n",
       "      <td>1015428.57</td>\n",
       "    </tr>\n",
       "    <tr>\n",
       "      <th>2</th>\n",
       "      <td>2019-01-04</td>\n",
       "      <td>1289420.54</td>\n",
       "    </tr>\n",
       "    <tr>\n",
       "      <th>3</th>\n",
       "      <td>2019-01-07</td>\n",
       "      <td>1324338.28</td>\n",
       "    </tr>\n",
       "    <tr>\n",
       "      <th>4</th>\n",
       "      <td>2019-01-08</td>\n",
       "      <td>890735.28</td>\n",
       "    </tr>\n",
       "    <tr>\n",
       "      <th>...</th>\n",
       "      <td>...</td>\n",
       "      <td>...</td>\n",
       "    </tr>\n",
       "    <tr>\n",
       "      <th>259</th>\n",
       "      <td>2019-12-26</td>\n",
       "      <td>1668684.96</td>\n",
       "    </tr>\n",
       "    <tr>\n",
       "      <th>260</th>\n",
       "      <td>2019-12-27</td>\n",
       "      <td>1752258.88</td>\n",
       "    </tr>\n",
       "    <tr>\n",
       "      <th>261</th>\n",
       "      <td>2019-12-28</td>\n",
       "      <td>928699.61</td>\n",
       "    </tr>\n",
       "    <tr>\n",
       "      <th>262</th>\n",
       "      <td>2019-12-30</td>\n",
       "      <td>1339049.52</td>\n",
       "    </tr>\n",
       "    <tr>\n",
       "      <th>263</th>\n",
       "      <td>2019-12-31</td>\n",
       "      <td>1216218.42</td>\n",
       "    </tr>\n",
       "  </tbody>\n",
       "</table>\n",
       "<p>264 rows × 2 columns</p>\n",
       "</div>"
      ],
      "text/plain": [
       "          Date  Sale (Dollars)\n",
       "0   2019-01-02       941321.41\n",
       "1   2019-01-03      1015428.57\n",
       "2   2019-01-04      1289420.54\n",
       "3   2019-01-07      1324338.28\n",
       "4   2019-01-08       890735.28\n",
       "..         ...             ...\n",
       "259 2019-12-26      1668684.96\n",
       "260 2019-12-27      1752258.88\n",
       "261 2019-12-28       928699.61\n",
       "262 2019-12-30      1339049.52\n",
       "263 2019-12-31      1216218.42\n",
       "\n",
       "[264 rows x 2 columns]"
      ]
     },
     "execution_count": 194,
     "metadata": {},
     "output_type": "execute_result"
    }
   ],
   "source": [
    "daily_sales"
   ]
  },
  {
   "cell_type": "code",
   "execution_count": 195,
   "metadata": {},
   "outputs": [
    {
     "data": {
      "image/png": "[encoded data removed]",
      "text/plain": [
       "<Figure size 720x576 with 1 Axes>"
      ]
     },
     "metadata": {
      "needs_background": "light"
     },
     "output_type": "display_data"
    }
   ],
   "source": [
    "plt.figure(figsize=(10,8))\n",
    "plt.xticks(rotation=60)\n",
    "sns.lineplot(x=daily_sales['Date'], y=daily_sales['Sale (Dollars)'])\n",
    "plt.title('Daily sales')\n",
    "plt.show()"
   ]
  },
  {
   "cell_type": "markdown",
   "metadata": {},
   "source": [
    "##### Insight: In july-august there is large sales of the liquors."
   ]
  },
  {
   "cell_type": "markdown",
   "metadata": {},
   "source": [
    "#### Sales of liquors with category and the volume of liquor sold."
   ]
  },
  {
   "cell_type": "code",
   "execution_count": 196,
   "metadata": {},
   "outputs": [],
   "source": [
    "df_plot = df.fillna('NA').groupby(['Category Name','Pack','Date'])['Sale (Dollars)'].sum().groupby(\n",
    "            ['Category Name','Pack']).max().sort_values().groupby(\n",
    "            ['Category Name']).sum().sort_values(ascending=False)\n",
    "top_count1 = pd.DataFrame(df_plot)\n",
    "#top_count1 = pd.DataFrame(df_plot.head(10))\n",
    "\n",
    "df_plot = df.fillna('NA').groupby(['Category Name','Pack','Date'])['Volume Sold (Liters)'].sum().groupby(\n",
    "            ['Category Name','Pack']).max().sort_values().groupby(\n",
    "            ['Category Name']).sum().sort_values(ascending=False)\n",
    "top_count2 = pd.DataFrame(df_plot)\n",
    "#top_count2 = pd.DataFrame(df_plot.head(10))"
   ]
  },
  {
   "cell_type": "code",
   "execution_count": 197,
   "metadata": {},
   "outputs": [
    {
     "data": {
      "text/html": [
       "<div>\n",
       "<style scoped>\n",
       "    .dataframe tbody tr th:only-of-type {\n",
       "        vertical-align: middle;\n",
       "    }\n",
       "\n",
       "    .dataframe tbody tr th {\n",
       "        vertical-align: top;\n",
       "    }\n",
       "\n",
       "    .dataframe thead th {\n",
       "        text-align: right;\n",
       "    }\n",
       "</style>\n",
       "<table border=\"1\" class=\"dataframe\">\n",
       "  <thead>\n",
       "    <tr style=\"text-align: right;\">\n",
       "      <th></th>\n",
       "      <th>Sale (Dollars)</th>\n",
       "      <th>Volume Sold (Liters)</th>\n",
       "    </tr>\n",
       "  </thead>\n",
       "  <tbody>\n",
       "    <tr>\n",
       "      <th>Canadian Whiskies</th>\n",
       "      <td>657979.89</td>\n",
       "      <td>36879.27</td>\n",
       "    </tr>\n",
       "    <tr>\n",
       "      <th>American Vodkas</th>\n",
       "      <td>392981.25</td>\n",
       "      <td>39594.42</td>\n",
       "    </tr>\n",
       "    <tr>\n",
       "      <th>Temporary &amp; Specialty Packages</th>\n",
       "      <td>379523.82</td>\n",
       "      <td>13315.62</td>\n",
       "    </tr>\n",
       "    <tr>\n",
       "      <th>Imported Vodkas</th>\n",
       "      <td>324551.64</td>\n",
       "      <td>21969.49</td>\n",
       "    </tr>\n",
       "    <tr>\n",
       "      <th>Straight Bourbon Whiskies</th>\n",
       "      <td>268459.53</td>\n",
       "      <td>10529.56</td>\n",
       "    </tr>\n",
       "    <tr>\n",
       "      <th>Whiskey Liqueur</th>\n",
       "      <td>206680.49</td>\n",
       "      <td>12911.68</td>\n",
       "    </tr>\n",
       "    <tr>\n",
       "      <th>Spiced Rum</th>\n",
       "      <td>199129.04</td>\n",
       "      <td>12612.02</td>\n",
       "    </tr>\n",
       "    <tr>\n",
       "      <th>Tennessee Whiskies</th>\n",
       "      <td>164095.12</td>\n",
       "      <td>5624.39</td>\n",
       "    </tr>\n",
       "    <tr>\n",
       "      <th>100% Agave Tequila</th>\n",
       "      <td>155288.31</td>\n",
       "      <td>8058.04</td>\n",
       "    </tr>\n",
       "    <tr>\n",
       "      <th>Irish Whiskies</th>\n",
       "      <td>132052.92</td>\n",
       "      <td>4283.30</td>\n",
       "    </tr>\n",
       "  </tbody>\n",
       "</table>\n",
       "</div>"
      ],
      "text/plain": [
       "                                Sale (Dollars)  Volume Sold (Liters)\n",
       "Canadian Whiskies                    657979.89              36879.27\n",
       "American Vodkas                      392981.25              39594.42\n",
       "Temporary & Specialty Packages       379523.82              13315.62\n",
       "Imported Vodkas                      324551.64              21969.49\n",
       "Straight Bourbon Whiskies            268459.53              10529.56\n",
       "Whiskey Liqueur                      206680.49              12911.68\n",
       "Spiced Rum                           199129.04              12612.02\n",
       "Tennessee Whiskies                   164095.12               5624.39\n",
       "100% Agave Tequila                   155288.31               8058.04\n",
       "Irish Whiskies                       132052.92               4283.30"
      ]
     },
     "execution_count": 197,
     "metadata": {},
     "output_type": "execute_result"
    }
   ],
   "source": [
    "# Ordrening the countries by number of fatalities\n",
    "top_count = pd.concat([top_count1 , top_count2],axis=1)\n",
    "top_count = top_count.sort_values(['Sale (Dollars)'],ascending=False)[:10]\n",
    "top_count"
   ]
  },
  {
   "cell_type": "code",
   "execution_count": 202,
   "metadata": {},
   "outputs": [
    {
     "data": {
      "text/plain": [
       "<Figure size 720x576 with 0 Axes>"
      ]
     },
     "metadata": {},
     "output_type": "display_data"
    },
    {
     "data": {
      "image/png": "[encoded data removed]",
      "text/plain": [
       "<Figure size 432x288 with 1 Axes>"
      ]
     },
     "metadata": {
      "needs_background": "light"
     },
     "output_type": "display_data"
    }
   ],
   "source": [
    "plt.figure(figsize=(10,8))\n",
    "top_count.plot.bar()\n",
    "plt.xticks(rotation=60)\n",
    "plt.title(\"Sales of liquors with category and the volume of liquor sold.\")\n",
    "plt.show()"
   ]
  },
  {
   "cell_type": "markdown",
   "metadata": {},
   "source": [
    "##### Insight: Canadian Whiskies has highest sale with the 36K litre."
   ]
  },
  {
   "cell_type": "markdown",
   "metadata": {},
   "source": [
    "#### Volume sold in litres by vendor name."
   ]
  },
  {
   "cell_type": "code",
   "execution_count": 213,
   "metadata": {},
   "outputs": [
    {
     "data": {
      "text/html": [
       "<div>\n",
       "<style scoped>\n",
       "    .dataframe tbody tr th:only-of-type {\n",
       "        vertical-align: middle;\n",
       "    }\n",
       "\n",
       "    .dataframe tbody tr th {\n",
       "        vertical-align: top;\n",
       "    }\n",
       "\n",
       "    .dataframe thead th {\n",
       "        text-align: right;\n",
       "    }\n",
       "</style>\n",
       "<table border=\"1\" class=\"dataframe\">\n",
       "  <thead>\n",
       "    <tr style=\"text-align: right;\">\n",
       "      <th></th>\n",
       "      <th>Volume Sold (Liters)</th>\n",
       "    </tr>\n",
       "    <tr>\n",
       "      <th>Vendor Name</th>\n",
       "      <th></th>\n",
       "    </tr>\n",
       "  </thead>\n",
       "  <tbody>\n",
       "    <tr>\n",
       "      <th>DIAGEO AMERICAS</th>\n",
       "      <td>38002.68</td>\n",
       "    </tr>\n",
       "    <tr>\n",
       "      <th>SAZERAC COMPANY  INC</th>\n",
       "      <td>28136.87</td>\n",
       "    </tr>\n",
       "    <tr>\n",
       "      <th>CONSTELLATION BRANDS INC</th>\n",
       "      <td>27778.16</td>\n",
       "    </tr>\n",
       "    <tr>\n",
       "      <th>Heaven Hill Brands</th>\n",
       "      <td>19219.34</td>\n",
       "    </tr>\n",
       "    <tr>\n",
       "      <th>LUXCO INC</th>\n",
       "      <td>19015.04</td>\n",
       "    </tr>\n",
       "    <tr>\n",
       "      <th>...</th>\n",
       "      <td>...</td>\n",
       "    </tr>\n",
       "    <tr>\n",
       "      <th>World Trade Liquor Imports LLC</th>\n",
       "      <td>4.50</td>\n",
       "    </tr>\n",
       "    <tr>\n",
       "      <th>Strong Spirits Distilling</th>\n",
       "      <td>3.00</td>\n",
       "    </tr>\n",
       "    <tr>\n",
       "      <th>Three Rangers</th>\n",
       "      <td>2.25</td>\n",
       "    </tr>\n",
       "    <tr>\n",
       "      <th>GUNSANDMORE INFO LLC</th>\n",
       "      <td>1.12</td>\n",
       "    </tr>\n",
       "    <tr>\n",
       "      <th>Hexa Partners LP</th>\n",
       "      <td>0.75</td>\n",
       "    </tr>\n",
       "  </tbody>\n",
       "</table>\n",
       "<p>191 rows × 1 columns</p>\n",
       "</div>"
      ],
      "text/plain": [
       "                                Volume Sold (Liters)\n",
       "Vendor Name                                         \n",
       "DIAGEO AMERICAS                             38002.68\n",
       "SAZERAC COMPANY  INC                        28136.87\n",
       "CONSTELLATION BRANDS INC                    27778.16\n",
       "Heaven Hill Brands                          19219.34\n",
       "LUXCO INC                                   19015.04\n",
       "...                                              ...\n",
       "World Trade Liquor Imports LLC                  4.50\n",
       "Strong Spirits Distilling                       3.00\n",
       "Three Rangers                                   2.25\n",
       "GUNSANDMORE INFO LLC                            1.12\n",
       "Hexa Partners LP                                0.75\n",
       "\n",
       "[191 rows x 1 columns]"
      ]
     },
     "execution_count": 213,
     "metadata": {},
     "output_type": "execute_result"
    }
   ],
   "source": [
    "df_plot = df.fillna('NA').groupby(['Vendor Name','Pack','Date'])['Volume Sold (Liters)'].sum().groupby(\n",
    "            ['Vendor Name','Pack']).max().sort_values().groupby(\n",
    "            ['Vendor Name']).sum().sort_values(ascending=False)\n",
    "top_count1 = pd.DataFrame(df_plot)\n",
    "#top_count1 = pd.DataFrame(df_plot.head(50))\n",
    "top_count1"
   ]
  },
  {
   "cell_type": "code",
   "execution_count": null,
   "metadata": {},
   "outputs": [],
   "source": [
    "plt.figure(figsize=(20,8))\n",
    "sns.barplot(data=top_count1,x=top_count1.index, y='Volume Sold (Liters)')\n",
    "plt.xticks(rotation=90)\n",
    "plt.title(\"Volume sold by vendor name\")\n",
    "plt.show()"
   ]
  },
  {
   "cell_type": "markdown",
   "metadata": {},
   "source": [
    "##### The vendor DIAGEO AMERICAS has sold out the highest number of liquors in terms of its volume."
   ]
  },
  {
   "cell_type": "markdown",
   "metadata": {},
   "source": [
    "## Data Preprocessing and Feature Engineering for ML models"
   ]
  },
  {
   "cell_type": "markdown",
   "metadata": {},
   "source": [
    "##### Dropping the unnecessary columns\n",
    "\n",
    "As we can see in our data there are columns like Item Number, Zip Code, etc which does not make any sense or not important for the prediction of alcohol sales. So in the next cell we will drop such columns."
   ]
  },
  {
   "cell_type": "code",
   "execution_count": 216,
   "metadata": {},
   "outputs": [],
   "source": [
    "df.drop(['Invoice/Item Number', 'Date', 'Store Number', 'Address', 'Zip Code', 'Store Location', 'County Number', \n",
    "        'Category', 'Vendor Number', 'Item Number', 'Item Description', 'Volume Sold (Liters)', 'Volume Sold (Gallons)'], \n",
    "        axis=1, \n",
    "        inplace=True)"
   ]
  },
  {
   "cell_type": "code",
   "execution_count": 217,
   "metadata": {},
   "outputs": [
    {
     "data": {
      "text/plain": [
       "Index(['Store Name', 'City', 'County', 'Category Name', 'Vendor Name', 'Pack',\n",
       "       'Bottle Volume (ml)', 'State Bottle Cost', 'State Bottle Retail',\n",
       "       'Bottles Sold', 'Sale (Dollars)', 'Year', 'Month', 'Day'],\n",
       "      dtype='object')"
      ]
     },
     "execution_count": 217,
     "metadata": {},
     "output_type": "execute_result"
    }
   ],
   "source": [
    "df.columns"
   ]
  },
  {
   "cell_type": "code",
   "execution_count": 218,
   "metadata": {},
   "outputs": [
    {
     "data": {
      "text/plain": [
       "(2158261, 14)"
      ]
     },
     "execution_count": 218,
     "metadata": {},
     "output_type": "execute_result"
    }
   ],
   "source": [
    "df.shape"
   ]
  },
  {
   "cell_type": "code",
   "execution_count": 219,
   "metadata": {},
   "outputs": [
    {
     "data": {
      "text/html": [
       "<div>\n",
       "<style scoped>\n",
       "    .dataframe tbody tr th:only-of-type {\n",
       "        vertical-align: middle;\n",
       "    }\n",
       "\n",
       "    .dataframe tbody tr th {\n",
       "        vertical-align: top;\n",
       "    }\n",
       "\n",
       "    .dataframe thead th {\n",
       "        text-align: right;\n",
       "    }\n",
       "</style>\n",
       "<table border=\"1\" class=\"dataframe\">\n",
       "  <thead>\n",
       "    <tr style=\"text-align: right;\">\n",
       "      <th></th>\n",
       "      <th>Store Name</th>\n",
       "      <th>City</th>\n",
       "      <th>County</th>\n",
       "      <th>Category Name</th>\n",
       "      <th>Vendor Name</th>\n",
       "      <th>Pack</th>\n",
       "      <th>Bottle Volume (ml)</th>\n",
       "      <th>State Bottle Cost</th>\n",
       "      <th>State Bottle Retail</th>\n",
       "      <th>Bottles Sold</th>\n",
       "      <th>Sale (Dollars)</th>\n",
       "      <th>Year</th>\n",
       "      <th>Month</th>\n",
       "      <th>Day</th>\n",
       "    </tr>\n",
       "  </thead>\n",
       "  <tbody>\n",
       "    <tr>\n",
       "      <th>16</th>\n",
       "      <td>Target Store T-1939 / Altoona</td>\n",
       "      <td>Altoona</td>\n",
       "      <td>POLK</td>\n",
       "      <td>Blended Whiskies</td>\n",
       "      <td>PROXIMO</td>\n",
       "      <td>12</td>\n",
       "      <td>750</td>\n",
       "      <td>13.75</td>\n",
       "      <td>20.63</td>\n",
       "      <td>12</td>\n",
       "      <td>247.56</td>\n",
       "      <td>2019</td>\n",
       "      <td>1</td>\n",
       "      <td>2</td>\n",
       "    </tr>\n",
       "    <tr>\n",
       "      <th>30</th>\n",
       "      <td>Hy-Vee Food Store #5 / Des Moines</td>\n",
       "      <td>Des Moines</td>\n",
       "      <td>POLK</td>\n",
       "      <td>American Dry Gins</td>\n",
       "      <td>PERNOD RICARD USA</td>\n",
       "      <td>6</td>\n",
       "      <td>1750</td>\n",
       "      <td>11.99</td>\n",
       "      <td>17.99</td>\n",
       "      <td>6</td>\n",
       "      <td>107.94</td>\n",
       "      <td>2019</td>\n",
       "      <td>1</td>\n",
       "      <td>2</td>\n",
       "    </tr>\n",
       "    <tr>\n",
       "      <th>31</th>\n",
       "      <td>Central City Liquor, Inc.</td>\n",
       "      <td>Des Moines</td>\n",
       "      <td>POLK</td>\n",
       "      <td>Single Malt Scotch</td>\n",
       "      <td>Jim Beam Brands</td>\n",
       "      <td>6</td>\n",
       "      <td>750</td>\n",
       "      <td>21.50</td>\n",
       "      <td>32.25</td>\n",
       "      <td>3</td>\n",
       "      <td>106.29</td>\n",
       "      <td>2019</td>\n",
       "      <td>1</td>\n",
       "      <td>2</td>\n",
       "    </tr>\n",
       "    <tr>\n",
       "      <th>32</th>\n",
       "      <td>Hy-Vee Food Store #5 / Des Moines</td>\n",
       "      <td>Des Moines</td>\n",
       "      <td>POLK</td>\n",
       "      <td>American Flavored Vodka</td>\n",
       "      <td>DIAGEO AMERICAS</td>\n",
       "      <td>12</td>\n",
       "      <td>750</td>\n",
       "      <td>8.25</td>\n",
       "      <td>12.38</td>\n",
       "      <td>12</td>\n",
       "      <td>148.56</td>\n",
       "      <td>2019</td>\n",
       "      <td>1</td>\n",
       "      <td>2</td>\n",
       "    </tr>\n",
       "    <tr>\n",
       "      <th>33</th>\n",
       "      <td>Central City Liquor, Inc.</td>\n",
       "      <td>Des Moines</td>\n",
       "      <td>POLK</td>\n",
       "      <td>100% Agave Tequila</td>\n",
       "      <td>Patron Spirits Company</td>\n",
       "      <td>12</td>\n",
       "      <td>750</td>\n",
       "      <td>31.00</td>\n",
       "      <td>46.50</td>\n",
       "      <td>2</td>\n",
       "      <td>93.00</td>\n",
       "      <td>2019</td>\n",
       "      <td>1</td>\n",
       "      <td>2</td>\n",
       "    </tr>\n",
       "  </tbody>\n",
       "</table>\n",
       "</div>"
      ],
      "text/plain": [
       "                           Store Name        City County  \\\n",
       "16      Target Store T-1939 / Altoona     Altoona   POLK   \n",
       "30  Hy-Vee Food Store #5 / Des Moines  Des Moines   POLK   \n",
       "31          Central City Liquor, Inc.  Des Moines   POLK   \n",
       "32  Hy-Vee Food Store #5 / Des Moines  Des Moines   POLK   \n",
       "33          Central City Liquor, Inc.  Des Moines   POLK   \n",
       "\n",
       "              Category Name             Vendor Name  Pack  Bottle Volume (ml)  \\\n",
       "16         Blended Whiskies                 PROXIMO    12                 750   \n",
       "30        American Dry Gins       PERNOD RICARD USA     6                1750   \n",
       "31       Single Malt Scotch         Jim Beam Brands     6                 750   \n",
       "32  American Flavored Vodka         DIAGEO AMERICAS    12                 750   \n",
       "33       100% Agave Tequila  Patron Spirits Company    12                 750   \n",
       "\n",
       "    State Bottle Cost  State Bottle Retail  Bottles Sold  Sale (Dollars)  \\\n",
       "16              13.75                20.63            12          247.56   \n",
       "30              11.99                17.99             6          107.94   \n",
       "31              21.50                32.25             3          106.29   \n",
       "32               8.25                12.38            12          148.56   \n",
       "33              31.00                46.50             2           93.00   \n",
       "\n",
       "    Year  Month  Day  \n",
       "16  2019      1    2  \n",
       "30  2019      1    2  \n",
       "31  2019      1    2  \n",
       "32  2019      1    2  \n",
       "33  2019      1    2  "
      ]
     },
     "execution_count": 219,
     "metadata": {},
     "output_type": "execute_result"
    }
   ],
   "source": [
    "df.head()"
   ]
  },
  {
   "cell_type": "code",
   "execution_count": 220,
   "metadata": {},
   "outputs": [],
   "source": [
    "# Replacing the dollar symbol in the 'State Bottle Cost' and 'State Bottle Retail' column by None. \n",
    "\n",
    "df['State Bottle Cost'] = df['State Bottle Cost'].replace('$', '')\n",
    "df['State Bottle Cost'] = df['State Bottle Cost'].astype('float')\n",
    "\n",
    "df['State Bottle Retail'] = df['State Bottle Retail'].replace('$', '')\n",
    "df['State Bottle Retail'] = df['State Bottle Retail'].astype('float')"
   ]
  },
  {
   "cell_type": "markdown",
   "metadata": {},
   "source": [
    "### Correlations\n",
    "* Finally, let's take a look at the relationships between numeric features and other numeric features.\n",
    "* ***Correlation*** is a value between -1 and 1 that represents how closely values for two separate features move in unison.\n",
    "* Positive correlation means that as one feature increases, the other increases; eg. a child's age and her height.\n",
    "* Negative correlation means that as one feature increases, the other decreases; eg. hours spent studying and number of parties attended.\n",
    "* Correlations near -1 or 1 indicate a strong relationship.\n",
    "* Those closer to 0 indicate a weak relationship.\n",
    "* 0 indicates no relationship."
   ]
  },
  {
   "cell_type": "code",
   "execution_count": 222,
   "metadata": {},
   "outputs": [
    {
     "data": {
      "text/html": [
       "<div>\n",
       "<style scoped>\n",
       "    .dataframe tbody tr th:only-of-type {\n",
       "        vertical-align: middle;\n",
       "    }\n",
       "\n",
       "    .dataframe tbody tr th {\n",
       "        vertical-align: top;\n",
       "    }\n",
       "\n",
       "    .dataframe thead th {\n",
       "        text-align: right;\n",
       "    }\n",
       "</style>\n",
       "<table border=\"1\" class=\"dataframe\">\n",
       "  <thead>\n",
       "    <tr style=\"text-align: right;\">\n",
       "      <th></th>\n",
       "      <th>Pack</th>\n",
       "      <th>Bottle Volume (ml)</th>\n",
       "      <th>State Bottle Cost</th>\n",
       "      <th>State Bottle Retail</th>\n",
       "      <th>Bottles Sold</th>\n",
       "      <th>Sale (Dollars)</th>\n",
       "      <th>Year</th>\n",
       "      <th>Month</th>\n",
       "      <th>Day</th>\n",
       "    </tr>\n",
       "  </thead>\n",
       "  <tbody>\n",
       "    <tr>\n",
       "      <th>Pack</th>\n",
       "      <td>1.000000</td>\n",
       "      <td>-0.566315</td>\n",
       "      <td>-0.362728</td>\n",
       "      <td>-0.362688</td>\n",
       "      <td>0.178106</td>\n",
       "      <td>-0.047212</td>\n",
       "      <td>NaN</td>\n",
       "      <td>-0.007155</td>\n",
       "      <td>-0.001046</td>\n",
       "    </tr>\n",
       "    <tr>\n",
       "      <th>Bottle Volume (ml)</th>\n",
       "      <td>-0.566315</td>\n",
       "      <td>1.000000</td>\n",
       "      <td>0.260903</td>\n",
       "      <td>0.260853</td>\n",
       "      <td>-0.031256</td>\n",
       "      <td>0.078052</td>\n",
       "      <td>NaN</td>\n",
       "      <td>-0.066078</td>\n",
       "      <td>-0.000349</td>\n",
       "    </tr>\n",
       "    <tr>\n",
       "      <th>State Bottle Cost</th>\n",
       "      <td>-0.362728</td>\n",
       "      <td>0.260903</td>\n",
       "      <td>1.000000</td>\n",
       "      <td>0.999817</td>\n",
       "      <td>-0.069918</td>\n",
       "      <td>0.114538</td>\n",
       "      <td>NaN</td>\n",
       "      <td>0.016197</td>\n",
       "      <td>0.003439</td>\n",
       "    </tr>\n",
       "    <tr>\n",
       "      <th>State Bottle Retail</th>\n",
       "      <td>-0.362688</td>\n",
       "      <td>0.260853</td>\n",
       "      <td>0.999817</td>\n",
       "      <td>1.000000</td>\n",
       "      <td>-0.069905</td>\n",
       "      <td>0.114521</td>\n",
       "      <td>NaN</td>\n",
       "      <td>0.016238</td>\n",
       "      <td>0.003477</td>\n",
       "    </tr>\n",
       "    <tr>\n",
       "      <th>Bottles Sold</th>\n",
       "      <td>0.178106</td>\n",
       "      <td>-0.031256</td>\n",
       "      <td>-0.069918</td>\n",
       "      <td>-0.069905</td>\n",
       "      <td>1.000000</td>\n",
       "      <td>0.802260</td>\n",
       "      <td>NaN</td>\n",
       "      <td>0.007083</td>\n",
       "      <td>0.001607</td>\n",
       "    </tr>\n",
       "    <tr>\n",
       "      <th>Sale (Dollars)</th>\n",
       "      <td>-0.047212</td>\n",
       "      <td>0.078052</td>\n",
       "      <td>0.114538</td>\n",
       "      <td>0.114521</td>\n",
       "      <td>0.802260</td>\n",
       "      <td>1.000000</td>\n",
       "      <td>NaN</td>\n",
       "      <td>0.010863</td>\n",
       "      <td>0.002744</td>\n",
       "    </tr>\n",
       "    <tr>\n",
       "      <th>Year</th>\n",
       "      <td>NaN</td>\n",
       "      <td>NaN</td>\n",
       "      <td>NaN</td>\n",
       "      <td>NaN</td>\n",
       "      <td>NaN</td>\n",
       "      <td>NaN</td>\n",
       "      <td>NaN</td>\n",
       "      <td>NaN</td>\n",
       "      <td>NaN</td>\n",
       "    </tr>\n",
       "    <tr>\n",
       "      <th>Month</th>\n",
       "      <td>-0.007155</td>\n",
       "      <td>-0.066078</td>\n",
       "      <td>0.016197</td>\n",
       "      <td>0.016238</td>\n",
       "      <td>0.007083</td>\n",
       "      <td>0.010863</td>\n",
       "      <td>NaN</td>\n",
       "      <td>1.000000</td>\n",
       "      <td>0.007087</td>\n",
       "    </tr>\n",
       "    <tr>\n",
       "      <th>Day</th>\n",
       "      <td>-0.001046</td>\n",
       "      <td>-0.000349</td>\n",
       "      <td>0.003439</td>\n",
       "      <td>0.003477</td>\n",
       "      <td>0.001607</td>\n",
       "      <td>0.002744</td>\n",
       "      <td>NaN</td>\n",
       "      <td>0.007087</td>\n",
       "      <td>1.000000</td>\n",
       "    </tr>\n",
       "  </tbody>\n",
       "</table>\n",
       "</div>"
      ],
      "text/plain": [
       "                         Pack  Bottle Volume (ml)  State Bottle Cost  \\\n",
       "Pack                 1.000000           -0.566315          -0.362728   \n",
       "Bottle Volume (ml)  -0.566315            1.000000           0.260903   \n",
       "State Bottle Cost   -0.362728            0.260903           1.000000   \n",
       "State Bottle Retail -0.362688            0.260853           0.999817   \n",
       "Bottles Sold         0.178106           -0.031256          -0.069918   \n",
       "Sale (Dollars)      -0.047212            0.078052           0.114538   \n",
       "Year                      NaN                 NaN                NaN   \n",
       "Month               -0.007155           -0.066078           0.016197   \n",
       "Day                 -0.001046           -0.000349           0.003439   \n",
       "\n",
       "                     State Bottle Retail  Bottles Sold  Sale (Dollars)  Year  \\\n",
       "Pack                           -0.362688      0.178106       -0.047212   NaN   \n",
       "Bottle Volume (ml)              0.260853     -0.031256        0.078052   NaN   \n",
       "State Bottle Cost               0.999817     -0.069918        0.114538   NaN   \n",
       "State Bottle Retail             1.000000     -0.069905        0.114521   NaN   \n",
       "Bottles Sold                   -0.069905      1.000000        0.802260   NaN   \n",
       "Sale (Dollars)                  0.114521      0.802260        1.000000   NaN   \n",
       "Year                                 NaN           NaN             NaN   NaN   \n",
       "Month                           0.016238      0.007083        0.010863   NaN   \n",
       "Day                             0.003477      0.001607        0.002744   NaN   \n",
       "\n",
       "                        Month       Day  \n",
       "Pack                -0.007155 -0.001046  \n",
       "Bottle Volume (ml)  -0.066078 -0.000349  \n",
       "State Bottle Cost    0.016197  0.003439  \n",
       "State Bottle Retail  0.016238  0.003477  \n",
       "Bottles Sold         0.007083  0.001607  \n",
       "Sale (Dollars)       0.010863  0.002744  \n",
       "Year                      NaN       NaN  \n",
       "Month                1.000000  0.007087  \n",
       "Day                  0.007087  1.000000  "
      ]
     },
     "execution_count": 222,
     "metadata": {},
     "output_type": "execute_result"
    }
   ],
   "source": [
    "df.corr()"
   ]
  },
  {
   "cell_type": "code",
   "execution_count": 223,
   "metadata": {},
   "outputs": [
    {
     "data": {
      "text/plain": [
       "<matplotlib.axes._subplots.AxesSubplot at 0x1ae3e4a5c70>"
      ]
     },
     "execution_count": 223,
     "metadata": {},
     "output_type": "execute_result"
    },
    {
     "data": {
      "image/png": "[encoded data removed]",
      "text/plain": [
       "<Figure size 720x720 with 2 Axes>"
      ]
     },
     "metadata": {
      "needs_background": "light"
     },
     "output_type": "display_data"
    }
   ],
   "source": [
    "plt.figure(figsize=(10,10))\n",
    "sns.heatmap(df.corr())"
   ]
  },
  {
   "cell_type": "markdown",
   "metadata": {},
   "source": [
    "#### Encoding categorical variables.\n",
    "\n",
    "It is necessary to convert the categorical variable into numbers as ML models only takes the numbers as a input. So in our dataset the columns like Store Name, Category Name, Vendor Name are categorical."
   ]
  },
  {
   "cell_type": "code",
   "execution_count": 225,
   "metadata": {},
   "outputs": [],
   "source": [
    "label_en1 = LabelEncoder()\n",
    "df['Store Name'] = label_en1.fit_transform(df['Store Name'])\n",
    "\n",
    "label_en2 = LabelEncoder()\n",
    "df['Category Name'] = label_en2.fit_transform(df['Category Name'])\n",
    "\n",
    "label_en3 = LabelEncoder()\n",
    "df['Vendor Name'] = label_en3.fit_transform(df['Vendor Name'])\n",
    "\n",
    "label_en4 = LabelEncoder()\n",
    "df['County'] = label_en4.fit_transform(df['County'])\n",
    "\n",
    "label_en5 = LabelEncoder()\n",
    "df['City'] = label_en5.fit_transform(df['City'])"
   ]
  },
  {
   "cell_type": "code",
   "execution_count": 226,
   "metadata": {},
   "outputs": [
    {
     "data": {
      "text/plain": [
       "Store Name               int32\n",
       "City                     int32\n",
       "County                   int32\n",
       "Category Name            int32\n",
       "Vendor Name              int32\n",
       "Pack                     int64\n",
       "Bottle Volume (ml)       int64\n",
       "State Bottle Cost      float64\n",
       "State Bottle Retail    float64\n",
       "Bottles Sold             int64\n",
       "Sale (Dollars)         float64\n",
       "Year                     int64\n",
       "Month                    int64\n",
       "Day                      int64\n",
       "dtype: object"
      ]
     },
     "execution_count": 226,
     "metadata": {},
     "output_type": "execute_result"
    }
   ],
   "source": [
    "df.dtypes"
   ]
  },
  {
   "cell_type": "markdown",
   "metadata": {},
   "source": [
    "##### Insight: Now all the variables are converted into the numbers as per the requirement."
   ]
  },
  {
   "cell_type": "code",
   "execution_count": 227,
   "metadata": {},
   "outputs": [
    {
     "data": {
      "text/html": [
       "<div>\n",
       "<style scoped>\n",
       "    .dataframe tbody tr th:only-of-type {\n",
       "        vertical-align: middle;\n",
       "    }\n",
       "\n",
       "    .dataframe tbody tr th {\n",
       "        vertical-align: top;\n",
       "    }\n",
       "\n",
       "    .dataframe thead th {\n",
       "        text-align: right;\n",
       "    }\n",
       "</style>\n",
       "<table border=\"1\" class=\"dataframe\">\n",
       "  <thead>\n",
       "    <tr style=\"text-align: right;\">\n",
       "      <th></th>\n",
       "      <th>index</th>\n",
       "      <th>Store Name</th>\n",
       "      <th>City</th>\n",
       "      <th>County</th>\n",
       "      <th>Category Name</th>\n",
       "      <th>Vendor Name</th>\n",
       "      <th>Pack</th>\n",
       "      <th>Bottle Volume (ml)</th>\n",
       "      <th>State Bottle Cost</th>\n",
       "      <th>State Bottle Retail</th>\n",
       "      <th>Bottles Sold</th>\n",
       "      <th>Sale (Dollars)</th>\n",
       "      <th>Year</th>\n",
       "      <th>Month</th>\n",
       "      <th>Day</th>\n",
       "    </tr>\n",
       "  </thead>\n",
       "  <tbody>\n",
       "    <tr>\n",
       "      <th>0</th>\n",
       "      <td>16</td>\n",
       "      <td>1403</td>\n",
       "      <td>14</td>\n",
       "      <td>97</td>\n",
       "      <td>13</td>\n",
       "      <td>128</td>\n",
       "      <td>12</td>\n",
       "      <td>750</td>\n",
       "      <td>13.75</td>\n",
       "      <td>20.63</td>\n",
       "      <td>12</td>\n",
       "      <td>247.56</td>\n",
       "      <td>2019</td>\n",
       "      <td>1</td>\n",
       "      <td>2</td>\n",
       "    </tr>\n",
       "    <tr>\n",
       "      <th>1</th>\n",
       "      <td>30</td>\n",
       "      <td>861</td>\n",
       "      <td>102</td>\n",
       "      <td>97</td>\n",
       "      <td>7</td>\n",
       "      <td>125</td>\n",
       "      <td>6</td>\n",
       "      <td>1750</td>\n",
       "      <td>11.99</td>\n",
       "      <td>17.99</td>\n",
       "      <td>6</td>\n",
       "      <td>107.94</td>\n",
       "      <td>2019</td>\n",
       "      <td>1</td>\n",
       "      <td>2</td>\n",
       "    </tr>\n",
       "    <tr>\n",
       "      <th>2</th>\n",
       "      <td>31</td>\n",
       "      <td>519</td>\n",
       "      <td>102</td>\n",
       "      <td>97</td>\n",
       "      <td>42</td>\n",
       "      <td>82</td>\n",
       "      <td>6</td>\n",
       "      <td>750</td>\n",
       "      <td>21.50</td>\n",
       "      <td>32.25</td>\n",
       "      <td>3</td>\n",
       "      <td>106.29</td>\n",
       "      <td>2019</td>\n",
       "      <td>1</td>\n",
       "      <td>2</td>\n",
       "    </tr>\n",
       "    <tr>\n",
       "      <th>3</th>\n",
       "      <td>32</td>\n",
       "      <td>861</td>\n",
       "      <td>102</td>\n",
       "      <td>97</td>\n",
       "      <td>8</td>\n",
       "      <td>36</td>\n",
       "      <td>12</td>\n",
       "      <td>750</td>\n",
       "      <td>8.25</td>\n",
       "      <td>12.38</td>\n",
       "      <td>12</td>\n",
       "      <td>148.56</td>\n",
       "      <td>2019</td>\n",
       "      <td>1</td>\n",
       "      <td>2</td>\n",
       "    </tr>\n",
       "    <tr>\n",
       "      <th>4</th>\n",
       "      <td>33</td>\n",
       "      <td>519</td>\n",
       "      <td>102</td>\n",
       "      <td>97</td>\n",
       "      <td>0</td>\n",
       "      <td>131</td>\n",
       "      <td>12</td>\n",
       "      <td>750</td>\n",
       "      <td>31.00</td>\n",
       "      <td>46.50</td>\n",
       "      <td>2</td>\n",
       "      <td>93.00</td>\n",
       "      <td>2019</td>\n",
       "      <td>1</td>\n",
       "      <td>2</td>\n",
       "    </tr>\n",
       "  </tbody>\n",
       "</table>\n",
       "</div>"
      ],
      "text/plain": [
       "   index  Store Name  City  County  Category Name  Vendor Name  Pack  \\\n",
       "0     16        1403    14      97             13          128    12   \n",
       "1     30         861   102      97              7          125     6   \n",
       "2     31         519   102      97             42           82     6   \n",
       "3     32         861   102      97              8           36    12   \n",
       "4     33         519   102      97              0          131    12   \n",
       "\n",
       "   Bottle Volume (ml)  State Bottle Cost  State Bottle Retail  Bottles Sold  \\\n",
       "0                 750              13.75                20.63            12   \n",
       "1                1750              11.99                17.99             6   \n",
       "2                 750              21.50                32.25             3   \n",
       "3                 750               8.25                12.38            12   \n",
       "4                 750              31.00                46.50             2   \n",
       "\n",
       "   Sale (Dollars)  Year  Month  Day  \n",
       "0          247.56  2019      1    2  \n",
       "1          107.94  2019      1    2  \n",
       "2          106.29  2019      1    2  \n",
       "3          148.56  2019      1    2  \n",
       "4           93.00  2019      1    2  "
      ]
     },
     "execution_count": 227,
     "metadata": {},
     "output_type": "execute_result"
    }
   ],
   "source": [
    "df.reset_index(inplace = True)\n",
    "df.head()"
   ]
  },
  {
   "cell_type": "code",
   "execution_count": 228,
   "metadata": {},
   "outputs": [
    {
     "data": {
      "text/html": [
       "<div>\n",
       "<style scoped>\n",
       "    .dataframe tbody tr th:only-of-type {\n",
       "        vertical-align: middle;\n",
       "    }\n",
       "\n",
       "    .dataframe tbody tr th {\n",
       "        vertical-align: top;\n",
       "    }\n",
       "\n",
       "    .dataframe thead th {\n",
       "        text-align: right;\n",
       "    }\n",
       "</style>\n",
       "<table border=\"1\" class=\"dataframe\">\n",
       "  <thead>\n",
       "    <tr style=\"text-align: right;\">\n",
       "      <th></th>\n",
       "      <th>index</th>\n",
       "      <th>Store_Name</th>\n",
       "      <th>City</th>\n",
       "      <th>County</th>\n",
       "      <th>Category_Name</th>\n",
       "      <th>Vendor_Name</th>\n",
       "      <th>Pack</th>\n",
       "      <th>Bottle_Volume_(ml)</th>\n",
       "      <th>State_Bottle_Cost</th>\n",
       "      <th>State_Bottle_Retail</th>\n",
       "      <th>Bottles_Sold</th>\n",
       "      <th>Sale_(Dollars)</th>\n",
       "      <th>Year</th>\n",
       "      <th>Month</th>\n",
       "      <th>Day</th>\n",
       "    </tr>\n",
       "  </thead>\n",
       "  <tbody>\n",
       "    <tr>\n",
       "      <th>0</th>\n",
       "      <td>16</td>\n",
       "      <td>1403</td>\n",
       "      <td>14</td>\n",
       "      <td>97</td>\n",
       "      <td>13</td>\n",
       "      <td>128</td>\n",
       "      <td>12</td>\n",
       "      <td>750</td>\n",
       "      <td>13.75</td>\n",
       "      <td>20.63</td>\n",
       "      <td>12</td>\n",
       "      <td>247.56</td>\n",
       "      <td>2019</td>\n",
       "      <td>1</td>\n",
       "      <td>2</td>\n",
       "    </tr>\n",
       "    <tr>\n",
       "      <th>1</th>\n",
       "      <td>30</td>\n",
       "      <td>861</td>\n",
       "      <td>102</td>\n",
       "      <td>97</td>\n",
       "      <td>7</td>\n",
       "      <td>125</td>\n",
       "      <td>6</td>\n",
       "      <td>1750</td>\n",
       "      <td>11.99</td>\n",
       "      <td>17.99</td>\n",
       "      <td>6</td>\n",
       "      <td>107.94</td>\n",
       "      <td>2019</td>\n",
       "      <td>1</td>\n",
       "      <td>2</td>\n",
       "    </tr>\n",
       "    <tr>\n",
       "      <th>2</th>\n",
       "      <td>31</td>\n",
       "      <td>519</td>\n",
       "      <td>102</td>\n",
       "      <td>97</td>\n",
       "      <td>42</td>\n",
       "      <td>82</td>\n",
       "      <td>6</td>\n",
       "      <td>750</td>\n",
       "      <td>21.50</td>\n",
       "      <td>32.25</td>\n",
       "      <td>3</td>\n",
       "      <td>106.29</td>\n",
       "      <td>2019</td>\n",
       "      <td>1</td>\n",
       "      <td>2</td>\n",
       "    </tr>\n",
       "    <tr>\n",
       "      <th>3</th>\n",
       "      <td>32</td>\n",
       "      <td>861</td>\n",
       "      <td>102</td>\n",
       "      <td>97</td>\n",
       "      <td>8</td>\n",
       "      <td>36</td>\n",
       "      <td>12</td>\n",
       "      <td>750</td>\n",
       "      <td>8.25</td>\n",
       "      <td>12.38</td>\n",
       "      <td>12</td>\n",
       "      <td>148.56</td>\n",
       "      <td>2019</td>\n",
       "      <td>1</td>\n",
       "      <td>2</td>\n",
       "    </tr>\n",
       "    <tr>\n",
       "      <th>4</th>\n",
       "      <td>33</td>\n",
       "      <td>519</td>\n",
       "      <td>102</td>\n",
       "      <td>97</td>\n",
       "      <td>0</td>\n",
       "      <td>131</td>\n",
       "      <td>12</td>\n",
       "      <td>750</td>\n",
       "      <td>31.00</td>\n",
       "      <td>46.50</td>\n",
       "      <td>2</td>\n",
       "      <td>93.00</td>\n",
       "      <td>2019</td>\n",
       "      <td>1</td>\n",
       "      <td>2</td>\n",
       "    </tr>\n",
       "    <tr>\n",
       "      <th>...</th>\n",
       "      <td>...</td>\n",
       "      <td>...</td>\n",
       "      <td>...</td>\n",
       "      <td>...</td>\n",
       "      <td>...</td>\n",
       "      <td>...</td>\n",
       "      <td>...</td>\n",
       "      <td>...</td>\n",
       "      <td>...</td>\n",
       "      <td>...</td>\n",
       "      <td>...</td>\n",
       "      <td>...</td>\n",
       "      <td>...</td>\n",
       "      <td>...</td>\n",
       "      <td>...</td>\n",
       "    </tr>\n",
       "    <tr>\n",
       "      <th>2158256</th>\n",
       "      <td>2380339</td>\n",
       "      <td>892</td>\n",
       "      <td>339</td>\n",
       "      <td>91</td>\n",
       "      <td>20</td>\n",
       "      <td>36</td>\n",
       "      <td>12</td>\n",
       "      <td>1000</td>\n",
       "      <td>17.09</td>\n",
       "      <td>25.64</td>\n",
       "      <td>4</td>\n",
       "      <td>102.56</td>\n",
       "      <td>2019</td>\n",
       "      <td>12</td>\n",
       "      <td>31</td>\n",
       "    </tr>\n",
       "    <tr>\n",
       "      <th>2158257</th>\n",
       "      <td>2380340</td>\n",
       "      <td>785</td>\n",
       "      <td>375</td>\n",
       "      <td>111</td>\n",
       "      <td>2</td>\n",
       "      <td>132</td>\n",
       "      <td>12</td>\n",
       "      <td>750</td>\n",
       "      <td>4.76</td>\n",
       "      <td>7.14</td>\n",
       "      <td>4</td>\n",
       "      <td>28.56</td>\n",
       "      <td>2019</td>\n",
       "      <td>12</td>\n",
       "      <td>31</td>\n",
       "    </tr>\n",
       "    <tr>\n",
       "      <th>2158258</th>\n",
       "      <td>2380341</td>\n",
       "      <td>959</td>\n",
       "      <td>280</td>\n",
       "      <td>64</td>\n",
       "      <td>40</td>\n",
       "      <td>148</td>\n",
       "      <td>6</td>\n",
       "      <td>1750</td>\n",
       "      <td>11.18</td>\n",
       "      <td>16.77</td>\n",
       "      <td>6</td>\n",
       "      <td>100.62</td>\n",
       "      <td>2019</td>\n",
       "      <td>12</td>\n",
       "      <td>31</td>\n",
       "    </tr>\n",
       "    <tr>\n",
       "      <th>2158259</th>\n",
       "      <td>2380342</td>\n",
       "      <td>1146</td>\n",
       "      <td>238</td>\n",
       "      <td>83</td>\n",
       "      <td>20</td>\n",
       "      <td>109</td>\n",
       "      <td>6</td>\n",
       "      <td>750</td>\n",
       "      <td>10.00</td>\n",
       "      <td>15.00</td>\n",
       "      <td>1</td>\n",
       "      <td>15.00</td>\n",
       "      <td>2019</td>\n",
       "      <td>12</td>\n",
       "      <td>31</td>\n",
       "    </tr>\n",
       "    <tr>\n",
       "      <th>2158260</th>\n",
       "      <td>2380344</td>\n",
       "      <td>523</td>\n",
       "      <td>346</td>\n",
       "      <td>122</td>\n",
       "      <td>13</td>\n",
       "      <td>128</td>\n",
       "      <td>12</td>\n",
       "      <td>750</td>\n",
       "      <td>13.75</td>\n",
       "      <td>20.63</td>\n",
       "      <td>1</td>\n",
       "      <td>20.63</td>\n",
       "      <td>2019</td>\n",
       "      <td>12</td>\n",
       "      <td>31</td>\n",
       "    </tr>\n",
       "  </tbody>\n",
       "</table>\n",
       "<p>2158261 rows × 15 columns</p>\n",
       "</div>"
      ],
      "text/plain": [
       "           index  Store_Name  City  County  Category_Name  Vendor_Name  Pack  \\\n",
       "0             16        1403    14      97             13          128    12   \n",
       "1             30         861   102      97              7          125     6   \n",
       "2             31         519   102      97             42           82     6   \n",
       "3             32         861   102      97              8           36    12   \n",
       "4             33         519   102      97              0          131    12   \n",
       "...          ...         ...   ...     ...            ...          ...   ...   \n",
       "2158256  2380339         892   339      91             20           36    12   \n",
       "2158257  2380340         785   375     111              2          132    12   \n",
       "2158258  2380341         959   280      64             40          148     6   \n",
       "2158259  2380342        1146   238      83             20          109     6   \n",
       "2158260  2380344         523   346     122             13          128    12   \n",
       "\n",
       "         Bottle_Volume_(ml)  State_Bottle_Cost  State_Bottle_Retail  \\\n",
       "0                       750              13.75                20.63   \n",
       "1                      1750              11.99                17.99   \n",
       "2                       750              21.50                32.25   \n",
       "3                       750               8.25                12.38   \n",
       "4                       750              31.00                46.50   \n",
       "...                     ...                ...                  ...   \n",
       "2158256                1000              17.09                25.64   \n",
       "2158257                 750               4.76                 7.14   \n",
       "2158258                1750              11.18                16.77   \n",
       "2158259                 750              10.00                15.00   \n",
       "2158260                 750              13.75                20.63   \n",
       "\n",
       "         Bottles_Sold  Sale_(Dollars)  Year  Month  Day  \n",
       "0                  12          247.56  2019      1    2  \n",
       "1                   6          107.94  2019      1    2  \n",
       "2                   3          106.29  2019      1    2  \n",
       "3                  12          148.56  2019      1    2  \n",
       "4                   2           93.00  2019      1    2  \n",
       "...               ...             ...   ...    ...  ...  \n",
       "2158256             4          102.56  2019     12   31  \n",
       "2158257             4           28.56  2019     12   31  \n",
       "2158258             6          100.62  2019     12   31  \n",
       "2158259             1           15.00  2019     12   31  \n",
       "2158260             1           20.63  2019     12   31  \n",
       "\n",
       "[2158261 rows x 15 columns]"
      ]
     },
     "execution_count": 228,
     "metadata": {},
     "output_type": "execute_result"
    }
   ],
   "source": [
    "df.rename({'Store Name':'Store_Name','Category Name':'Category_Name','Vendor Name':'Vendor_Name','Bottle Volume (ml)':'Bottle_Volume_(ml)','State Bottle Cost':'State_Bottle_Cost','State Bottle Retail':'State_Bottle_Retail','Bottles Sold':'Bottles_Sold','Sale (Dollars)':'Sale_(Dollars)'},axis=1)"
   ]
  },
  {
   "cell_type": "code",
   "execution_count": 229,
   "metadata": {},
   "outputs": [],
   "source": [
    "#Separating target feature\n",
    "X = df.drop(['Sale (Dollars)', 'index'], axis = 1)\n",
    "y = df['Sale (Dollars)']"
   ]
  },
  {
   "cell_type": "markdown",
   "metadata": {},
   "source": [
    "#### Data standardization\n",
    "* In Data Standardization we perform zero mean centring and unit scaling; i.e. we make the mean of all the features as zero and the standard deviation as 1.\n",
    "* Thus we use **mean** and **standard deviation** of each feature.\n",
    "* It is very important to save the **mean** and **standard deviation** for each of the feature from the **training set**, because we use the same mean and standard deviation in the test set."
   ]
  },
  {
   "cell_type": "code",
   "execution_count": 230,
   "metadata": {},
   "outputs": [],
   "source": [
    "a = StandardScaler()\n",
    "X = a.fit_transform(X)"
   ]
  },
  {
   "cell_type": "code",
   "execution_count": 231,
   "metadata": {},
   "outputs": [
    {
     "data": {
      "text/plain": [
       "8.505829809106511e-17"
      ]
     },
     "execution_count": 231,
     "metadata": {},
     "output_type": "execute_result"
    }
   ],
   "source": [
    "X.mean()"
   ]
  },
  {
   "cell_type": "code",
   "execution_count": 232,
   "metadata": {},
   "outputs": [
    {
     "data": {
      "text/plain": [
       "0.960768922830524"
      ]
     },
     "execution_count": 232,
     "metadata": {},
     "output_type": "execute_result"
    }
   ],
   "source": [
    "X.std()"
   ]
  },
  {
   "cell_type": "markdown",
   "metadata": {},
   "source": [
    "#### Train and validation split\n",
    "\n",
    "As we have to developed the model to predict the sales of alcohol so we will build the regression model and accordingly also do the splitting of the data."
   ]
  },
  {
   "cell_type": "code",
   "execution_count": 234,
   "metadata": {},
   "outputs": [],
   "source": [
    "# Split X and y into train and test sets: 80-20\n",
    "X_train, X_test, y_train, y_test = train_test_split(X, y, test_size=0.2, random_state=1234)"
   ]
  },
  {
   "cell_type": "code",
   "execution_count": 235,
   "metadata": {},
   "outputs": [
    {
     "name": "stdout",
     "output_type": "stream",
     "text": [
      "(1726608, 13) (431653, 13) (1726608,) (431653,)\n"
     ]
    }
   ],
   "source": [
    "print(X_train.shape, X_test.shape, y_train.shape, y_test.shape)"
   ]
  },
  {
   "cell_type": "markdown",
   "metadata": {},
   "source": [
    "## Machine Learning Models\n",
    "\n",
    "#### 1. Ridge Regression"
   ]
  },
  {
   "cell_type": "code",
   "execution_count": 237,
   "metadata": {},
   "outputs": [
    {
     "data": {
      "text/plain": [
       "Ridge()"
      ]
     },
     "execution_count": 237,
     "metadata": {},
     "output_type": "execute_result"
    }
   ],
   "source": [
    "ridge1 = Ridge()\n",
    "ridge1.fit(X_train, y_train)"
   ]
  },
  {
   "cell_type": "code",
   "execution_count": 238,
   "metadata": {},
   "outputs": [
    {
     "name": "stdout",
     "output_type": "stream",
     "text": [
      "Validation Results for Ridge Regression:\n",
      "*******************************\n",
      "Root mean squared error:  273.55029262696297\n",
      "R-squared:  0.6768173561574655\n",
      "Mean Absolute Error:  77.93500931647883\n"
     ]
    }
   ],
   "source": [
    "## Predict Test results\n",
    "y_pred = ridge1.predict(X_test)\n",
    "\n",
    "\n",
    "print(\"Validation Results for Ridge Regression:\")\n",
    "print(\"*******************************\")\n",
    "print(\"Root mean squared error: \", sqrt(mse(y_test, y_pred)))\n",
    "print(\"R-squared: \", r2_score(y_test, y_pred))\n",
    "print(\"Mean Absolute Error: \", mae(y_test, y_pred))"
   ]
  },
  {
   "cell_type": "markdown",
   "metadata": {},
   "source": [
    "#### Feature Importance"
   ]
  },
  {
   "cell_type": "code",
   "execution_count": 240,
   "metadata": {},
   "outputs": [
    {
     "data": {
      "text/plain": [
       "Ridge(alpha=1)"
      ]
     },
     "execution_count": 240,
     "metadata": {},
     "output_type": "execute_result"
    }
   ],
   "source": [
    "## Building the model again with the best hyperparameters\n",
    "model = Ridge(alpha=1)\n",
    "model.fit(X_train, y_train)"
   ]
  },
  {
   "cell_type": "code",
   "execution_count": 241,
   "metadata": {},
   "outputs": [],
   "source": [
    "lst = ['Store Name', 'City', 'County', 'Category Name', 'Vendor Name',\n",
    "       'Pack', 'Bottle Volume (ml)', 'State Bottle Cost',\n",
    "       'State Bottle Retail', 'Bottles Sold', 'Year',\n",
    "       'Month', 'Day']"
   ]
  },
  {
   "cell_type": "code",
   "execution_count": 242,
   "metadata": {},
   "outputs": [
    {
     "name": "stdout",
     "output_type": "stream",
     "text": [
      "The features in order of importance are:\n",
      "--------------------------------------------------\n",
      "Bottles Sold\n",
      "Pack\n",
      "State Bottle Cost\n",
      "Vendor Name\n",
      "Bottle Volume (ml)\n",
      "State Bottle Retail\n",
      "Category Name\n",
      "Store Name\n",
      "City\n",
      "County\n",
      "Day\n",
      "Month\n",
      "Year\n"
     ]
    }
   ],
   "source": [
    "indices = np.argsort(-abs(model.coef_))\n",
    "print(\"The features in order of importance are:\")\n",
    "print(50*'-')\n",
    "#print(indices)\n",
    "for i in range(len(indices)):\n",
    "    print(lst[indices[i]])"
   ]
  },
  {
   "cell_type": "markdown",
   "metadata": {},
   "source": [
    "#### 2. Random Forest"
   ]
  },
  {
   "cell_type": "code",
   "execution_count": 244,
   "metadata": {},
   "outputs": [
    {
     "data": {
      "text/plain": [
       "RandomForestRegressor()"
      ]
     },
     "execution_count": 244,
     "metadata": {},
     "output_type": "execute_result"
    }
   ],
   "source": [
    "random1 = RandomForestRegressor()\n",
    "random1.fit(X_train, y_train)"
   ]
  },
  {
   "cell_type": "code",
   "execution_count": 245,
   "metadata": {},
   "outputs": [
    {
     "name": "stdout",
     "output_type": "stream",
     "text": [
      "Validation Results for Random Forest Regression:\n",
      "*******************************\n",
      "Root mean squared error:  50.10283395970329\n",
      "R-squared:  0.9891582785491398\n",
      "Mean Absolute Error:  0.44258035328009265\n"
     ]
    }
   ],
   "source": [
    "## Predict Test results\n",
    "y_pred = random1.predict(X_test)\n",
    "\n",
    "\n",
    "print(\"Validation Results for Random Forest Regression:\")\n",
    "print(\"*******************************\")\n",
    "print(\"Root mean squared error: \", sqrt(mse(y_test, y_pred)))\n",
    "print(\"R-squared: \", r2_score(y_test, y_pred))\n",
    "print(\"Mean Absolute Error: \", mae(y_test, y_pred))"
   ]
  },
  {
   "cell_type": "markdown",
   "metadata": {},
   "source": [
    "#### Feature Importance"
   ]
  },
  {
   "cell_type": "code",
   "execution_count": 246,
   "metadata": {},
   "outputs": [
    {
     "data": {
      "text/plain": [
       "RandomForestRegressor()"
      ]
     },
     "execution_count": 246,
     "metadata": {},
     "output_type": "execute_result"
    }
   ],
   "source": [
    "## Building the model again with the best hyperparameters\n",
    "model = RandomForestRegressor()\n",
    "model.fit(X_train, y_train)"
   ]
  },
  {
   "cell_type": "code",
   "execution_count": 247,
   "metadata": {},
   "outputs": [
    {
     "name": "stdout",
     "output_type": "stream",
     "text": [
      "The features in order of importance are:\n",
      "--------------------------------------------------\n",
      "Bottles Sold\n",
      "State Bottle Retail\n",
      "State Bottle Cost\n",
      "Category Name\n",
      "Vendor Name\n",
      "Store Name\n",
      "Day\n",
      "Month\n",
      "County\n",
      "City\n",
      "Pack\n",
      "Bottle Volume (ml)\n",
      "Year\n"
     ]
    }
   ],
   "source": [
    "indices = np.argsort(-abs(model.feature_importances_))\n",
    "print(\"The features in order of importance are:\")\n",
    "print(50*'-')\n",
    "#print(indices)\n",
    "for i in range(len(indices)):\n",
    "    print(lst[indices[i]])"
   ]
  },
  {
   "cell_type": "markdown",
   "metadata": {},
   "source": [
    "#### 3. XGBoost"
   ]
  },
  {
   "cell_type": "code",
   "execution_count": 248,
   "metadata": {},
   "outputs": [
    {
     "data": {
      "text/plain": [
       "XGBRegressor(base_score=0.5, booster='gbtree', colsample_bylevel=1,\n",
       "             colsample_bynode=1, colsample_bytree=1, gamma=0, gpu_id=-1,\n",
       "             importance_type='gain', interaction_constraints='',\n",
       "             learning_rate=0.300000012, max_delta_step=0, max_depth=6,\n",
       "             min_child_weight=1, missing=nan, monotone_constraints='()',\n",
       "             n_estimators=100, n_jobs=0, num_parallel_tree=1, random_state=0,\n",
       "             reg_alpha=0, reg_lambda=1, scale_pos_weight=1, subsample=1,\n",
       "             tree_method='exact', validate_parameters=1, verbosity=None)"
      ]
     },
     "execution_count": 248,
     "metadata": {},
     "output_type": "execute_result"
    }
   ],
   "source": [
    "xgb1 = XGBRegressor(n_estimators=100)\n",
    "xgb1.fit(X_train, y_train)"
   ]
  },
  {
   "cell_type": "code",
   "execution_count": 249,
   "metadata": {},
   "outputs": [
    {
     "name": "stdout",
     "output_type": "stream",
     "text": [
      "Validation Results for Xgboost Regression:\n",
      "*******************************\n",
      "Root mean squared error:  45.50803632276961\n",
      "R-squared:  0.9910556279845306\n",
      "Mean Absolute Error:  2.8453725447879816\n"
     ]
    }
   ],
   "source": [
    "## Predict Test results\n",
    "y_pred = xgb1.predict(X_test)\n",
    "\n",
    "\n",
    "print(\"Validation Results for Xgboost Regression:\")\n",
    "print(\"*******************************\")\n",
    "print(\"Root mean squared error: \", sqrt(mse(y_test, y_pred)))\n",
    "print(\"R-squared: \", r2_score(y_test, y_pred))\n",
    "print(\"Mean Absolute Error: \", mae(y_test, y_pred))"
   ]
  },
  {
   "cell_type": "markdown",
   "metadata": {},
   "source": [
    "#### Feature Importance"
   ]
  },
  {
   "cell_type": "code",
   "execution_count": 250,
   "metadata": {},
   "outputs": [
    {
     "data": {
      "text/plain": [
       "XGBRegressor(base_score=0.5, booster='gbtree', colsample_bylevel=1,\n",
       "             colsample_bynode=1, colsample_bytree=1, gamma=0, gpu_id=-1,\n",
       "             importance_type='gain', interaction_constraints='',\n",
       "             learning_rate=0.300000012, max_delta_step=0, max_depth=6,\n",
       "             min_child_weight=1, missing=nan, monotone_constraints='()',\n",
       "             n_estimators=100, n_jobs=0, num_parallel_tree=1, random_state=0,\n",
       "             reg_alpha=0, reg_lambda=1, scale_pos_weight=1, subsample=1,\n",
       "             tree_method='exact', validate_parameters=1, verbosity=None)"
      ]
     },
     "execution_count": 250,
     "metadata": {},
     "output_type": "execute_result"
    }
   ],
   "source": [
    "## Building the model again with the best hyperparameters\n",
    "model = XGBRegressor(n_estimators=100)\n",
    "model.fit(X_train, y_train)"
   ]
  },
  {
   "cell_type": "code",
   "execution_count": 251,
   "metadata": {},
   "outputs": [
    {
     "name": "stdout",
     "output_type": "stream",
     "text": [
      "The features in order of importance are:\n",
      "--------------------------------------------------\n",
      "Bottles Sold\n",
      "State Bottle Cost\n",
      "State Bottle Retail\n",
      "Vendor Name\n",
      "Day\n",
      "Month\n",
      "Store Name\n",
      "Pack\n",
      "City\n",
      "Category Name\n",
      "Bottle Volume (ml)\n",
      "County\n",
      "Year\n"
     ]
    }
   ],
   "source": [
    "indices = np.argsort(-abs(model.feature_importances_))\n",
    "print(\"The features in order of importance are:\")\n",
    "print(50*'-')\n",
    "#print(indices)\n",
    "for i in range(len(indices)):\n",
    "    print(lst[indices[i]])"
   ]
  },
  {
   "cell_type": "markdown",
   "metadata": {},
   "source": [
    "#### Conclusion: From the preformance of the 3 models we can say that the XGBoost has performed very well. So saving the model to the disk."
   ]
  },
  {
   "cell_type": "code",
   "execution_count": 252,
   "metadata": {},
   "outputs": [],
   "source": [
    "import pickle\n",
    "pickle.dump(xgb1, open('model.pkl','wb'))   # Saving the model"
   ]
  },
  {
   "cell_type": "code",
   "execution_count": null,
   "metadata": {},
   "outputs": [],
   "source": []
  }
 ],
 "metadata": {
  "kernelspec": {
   "display_name": "Python 3",
   "language": "python",
   "name": "python3"
  },
  "language_info": {
   "codemirror_mode": {
    "name": "ipython",
    "version": 3
   },
   "file_extension": ".py",
   "mimetype": "text/x-python",
   "name": "python",
   "nbconvert_exporter": "python",
   "pygments_lexer": "ipython3",
   "version": "3.8.3"
  }
 },
 "nbformat": 4,
 "nbformat_minor": 4
}
